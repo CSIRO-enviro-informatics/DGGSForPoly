{
 "cells": [
  {
   "cell_type": "code",
   "execution_count": 19,
   "metadata": {},
   "outputs": [
    {
     "name": "stdout",
     "output_type": "stream",
     "text": [
      "Requirement already satisfied: DGGSForPoly in c:\\users\\rossp\\anaconda3\\envs\\testing_poly_fill\\lib\\site-packages (0.2.18)\n",
      "Requirement already satisfied: rhealpixdggs in c:\\users\\rossp\\anaconda3\\envs\\testing_poly_fill\\lib\\site-packages (from DGGSForPoly) (0.5.3)\n",
      "Requirement already satisfied: Shapely in c:\\users\\rossp\\anaconda3\\envs\\testing_poly_fill\\lib\\site-packages (from DGGSForPoly) (1.8.0)\n",
      "Requirement already satisfied: numpy>=1.7 in c:\\users\\rossp\\anaconda3\\envs\\testing_poly_fill\\lib\\site-packages (from rhealpixdggs->DGGSForPoly) (1.22.2)\n",
      "Requirement already satisfied: matplotlib>=1.2.1 in c:\\users\\rossp\\anaconda3\\envs\\testing_poly_fill\\lib\\site-packages (from rhealpixdggs->DGGSForPoly) (3.5.1)\n",
      "Requirement already satisfied: scipy>=0.12 in c:\\users\\rossp\\anaconda3\\envs\\testing_poly_fill\\lib\\site-packages (from rhealpixdggs->DGGSForPoly) (1.8.0)\n",
      "Requirement already satisfied: pyproj>=1.9.3 in c:\\users\\rossp\\anaconda3\\envs\\testing_poly_fill\\lib\\site-packages (from rhealpixdggs->DGGSForPoly) (3.3.0)\n",
      "Requirement already satisfied: kiwisolver>=1.0.1 in c:\\users\\rossp\\anaconda3\\envs\\testing_poly_fill\\lib\\site-packages (from matplotlib>=1.2.1->rhealpixdggs->DGGSForPoly) (1.3.2)\n",
      "Requirement already satisfied: fonttools>=4.22.0 in c:\\users\\rossp\\anaconda3\\envs\\testing_poly_fill\\lib\\site-packages (from matplotlib>=1.2.1->rhealpixdggs->DGGSForPoly) (4.29.1)\n",
      "Requirement already satisfied: python-dateutil>=2.7 in c:\\users\\rossp\\anaconda3\\envs\\testing_poly_fill\\lib\\site-packages (from matplotlib>=1.2.1->rhealpixdggs->DGGSForPoly) (2.8.2)\n",
      "Requirement already satisfied: pillow>=6.2.0 in c:\\users\\rossp\\anaconda3\\envs\\testing_poly_fill\\lib\\site-packages (from matplotlib>=1.2.1->rhealpixdggs->DGGSForPoly) (9.0.1)\n",
      "Requirement already satisfied: cycler>=0.10 in c:\\users\\rossp\\anaconda3\\envs\\testing_poly_fill\\lib\\site-packages (from matplotlib>=1.2.1->rhealpixdggs->DGGSForPoly) (0.11.0)\n",
      "Requirement already satisfied: packaging>=20.0 in c:\\users\\rossp\\anaconda3\\envs\\testing_poly_fill\\lib\\site-packages (from matplotlib>=1.2.1->rhealpixdggs->DGGSForPoly) (21.3)\n",
      "Requirement already satisfied: pyparsing>=2.2.1 in c:\\users\\rossp\\anaconda3\\envs\\testing_poly_fill\\lib\\site-packages (from matplotlib>=1.2.1->rhealpixdggs->DGGSForPoly) (3.0.7)\n",
      "Requirement already satisfied: certifi in c:\\users\\rossp\\anaconda3\\envs\\testing_poly_fill\\lib\\site-packages (from pyproj>=1.9.3->rhealpixdggs->DGGSForPoly) (2021.10.8)\n",
      "Requirement already satisfied: six>=1.5 in c:\\users\\rossp\\anaconda3\\envs\\testing_poly_fill\\lib\\site-packages (from python-dateutil>=2.7->matplotlib>=1.2.1->rhealpixdggs->DGGSForPoly) (1.16.0)\n",
      "Note: you may need to restart the kernel to use updated packages.\n"
     ]
    }
   ],
   "source": [
    "pip install DGGSForPoly"
   ]
  },
  {
   "cell_type": "code",
   "execution_count": null,
   "metadata": {},
   "outputs": [],
   "source": [
    "\n"
   ]
  },
  {
   "cell_type": "code",
   "execution_count": 20,
   "metadata": {},
   "outputs": [],
   "source": [
    "from DGGSForPoly.poly_fill import poly_fill, poly_fill_from_geojson # poly_fill\n",
    "import json # for reading in data"
   ]
  },
  {
   "cell_type": "markdown",
   "metadata": {},
   "source": [
    "# Reading in Data"
   ]
  },
  {
   "cell_type": "code",
   "execution_count": 50,
   "metadata": {},
   "outputs": [],
   "source": [
    "f = open(\"spatial_data/BlackMountain_3_MultiPolygon.geojson\") # has 3 features\n",
    "gj_obj = json.loads(f.read()) "
   ]
  },
  {
   "cell_type": "markdown",
   "metadata": {},
   "source": [
    "## Format Data for entry to poly_fill"
   ]
  },
  {
   "cell_type": "code",
   "execution_count": 22,
   "metadata": {},
   "outputs": [],
   "source": [
    "feature_num=0 # Pass in 'poly_num'th feature in the geojson\n",
    "poly_dict = gj_obj['features'][feature_num]['geometry'] # geojson style dict input for poly_fill"
   ]
  },
  {
   "cell_type": "markdown",
   "metadata": {},
   "source": [
    "# Basic Usage\n",
    "polyfill requires only an input polygon and the desired resolution. The input polygon can be the dictionary of a geojson feature (see above), or a shapely object."
   ]
  },
  {
   "cell_type": "code",
   "execution_count": 31,
   "metadata": {},
   "outputs": [
    {
     "name": "stdout",
     "output_type": "stream",
     "text": [
      "Found 575 cells\n"
     ]
    }
   ],
   "source": [
    "dggs_cells = poly_fill(geojson=poly_dict, max_res=10) # From poly dict\n",
    "print(\"Found {0} cells\".format(len(dggs_cells)))"
   ]
  },
  {
   "cell_type": "code",
   "execution_count": 24,
   "metadata": {},
   "outputs": [
    {
     "name": "stdout",
     "output_type": "stream",
     "text": [
      "Found 575 cells\n"
     ]
    }
   ],
   "source": [
    "from shapely.geometry import shape\n",
    "shapely_obj = shape(poly_dict)\n",
    "dggs_cells = poly_fill(polygon=shapely_obj, max_res=10) # From Shapely (Multi)Poly\n",
    "print(\"Found {0} cells\".format(len(dggs_cells)))"
   ]
  },
  {
   "cell_type": "markdown",
   "metadata": {},
   "source": [
    "## Contorl over Hierarchical cell represensations\n",
    "poly_fill can return uniform cell level or hybrid cell level represenation of spatial geometries. The default is Hybrid and this can be contorled by changing the 'hybrid' bool paramter ."
   ]
  },
  {
   "cell_type": "code",
   "execution_count": 25,
   "metadata": {},
   "outputs": [
    {
     "name": "stdout",
     "output_type": "stream",
     "text": [
      "Found 1167 cells\n"
     ]
    }
   ],
   "source": [
    "dggs_cells = poly_fill(geojson=poly_dict, max_res=10, hybrid=False) # From poly dict\n",
    "print(\"Found {0} cells\".format(len(dggs_cells)))"
   ]
  },
  {
   "cell_type": "markdown",
   "metadata": {},
   "source": [
    "## Fill Strategy Control\n",
    "In addition to hybridisation control, poly_fill implements 3 fill strategies:   \n",
    "1. **poly_fully_covered_by_cells** - cells included if they overlap the query polygon   \n",
    "2. **centroids_in_poly** - cells included if their centroids are within the query polygon   \n",
    "3. **cells_fully_contained_in_poly** - cells included if they're fully within the query polygon   \n",
    "\n",
    "Control by changing 'fill_strategy' parameter to be one of the above bolded strings. Default is 1.\n"
   ]
  },
  {
   "cell_type": "code",
   "execution_count": 26,
   "metadata": {},
   "outputs": [
    {
     "name": "stdout",
     "output_type": "stream",
     "text": [
      "Found 575 cells\n"
     ]
    }
   ],
   "source": [
    "dggs_cells = poly_fill(geojson=poly_dict, max_res=10, fill_strategy='poly_fully_covered_by_cells') # From poly dict\n",
    "print(\"Found {0} cells\".format(len(dggs_cells)))"
   ]
  },
  {
   "cell_type": "code",
   "execution_count": 27,
   "metadata": {},
   "outputs": [
    {
     "name": "stdout",
     "output_type": "stream",
     "text": [
      "Found 427 cells\n"
     ]
    }
   ],
   "source": [
    "dggs_cells = poly_fill(geojson=poly_dict, max_res=10, fill_strategy='centroids_in_poly') # From poly dict\n",
    "print(\"Found {0} cells\".format(len(dggs_cells)))"
   ]
  },
  {
   "cell_type": "code",
   "execution_count": 28,
   "metadata": {},
   "outputs": [
    {
     "name": "stdout",
     "output_type": "stream",
     "text": [
      "Found 294 cells\n"
     ]
    }
   ],
   "source": [
    "dggs_cells = poly_fill(geojson=poly_dict, max_res=10, fill_strategy='cells_fully_contained_in_poly') # From poly dict\n",
    "print(\"Found {0} cells\".format(len(dggs_cells)))"
   ]
  },
  {
   "cell_type": "markdown",
   "metadata": {},
   "source": [
    "# poly_fill from raw geojson (with potentially multiple geometries)\n",
    "poly_fill_from_geojson can return list of dggs cells lists, one for each geometry (Feature) in an inputted geojson. The dggs cell lists are in the same order they are in the geojson."
   ]
  },
  {
   "cell_type": "code",
   "execution_count": 65,
   "metadata": {},
   "outputs": [],
   "source": [
    "f = open(\"spatial_data/BlackMountain_3_MultiPolygon.geojson\") # Has 3 features\n",
    "gj_obj = json.loads(f.read()) \n",
    "list_of_dggs_cell_lists = poly_fill_from_geojson(geojson_obj=gj_obj, max_res=10)"
   ]
  },
  {
   "cell_type": "code",
   "execution_count": 66,
   "metadata": {},
   "outputs": [
    {
     "name": "stdout",
     "output_type": "stream",
     "text": [
      "3 cell-based representations computed. The first containing 575 cells\n"
     ]
    }
   ],
   "source": [
    "print(\"{0} cell-based representations computed. The first containing {1} cells\"\\\n",
    ".format(len(list_of_dggs_cell_lists), len(list_of_dggs_cell_lists[0])))"
   ]
  },
  {
   "cell_type": "markdown",
   "metadata": {},
   "source": [
    "# Plotting DGGS Cells"
   ]
  },
  {
   "cell_type": "code",
   "execution_count": 1,
   "metadata": {},
   "outputs": [],
   "source": [
    "pip install -r requirements_nb.txt"
   ]
  },
  {
   "cell_type": "code",
   "execution_count": 2,
   "metadata": {},
   "outputs": [],
   "source": [
    "from DGGSForPoly.cell_plot import cell_plot\n",
    "from shapely.geometry import shape #cell_plot takes a shapely object"
   ]
  },
  {
   "cell_type": "code",
   "execution_count": null,
   "metadata": {},
   "outputs": [],
   "source": [
    "cell_plot(cell_list=dggs_cells, poly=shape(poly_dict), zoom=10)"
   ]
  }
 ],
 "metadata": {
  "interpreter": {
   "hash": "bddc4fecca9225225339ff0447f4d89fb1743c35c8b512909c846788e0e7eefd"
  },
  "kernelspec": {
   "display_name": "Python 3.9.7 ('testing_poly_fill')",
   "language": "python",
   "name": "python3"
  },
  "language_info": {
   "codemirror_mode": {
    "name": "ipython",
    "version": 3
   },
   "file_extension": ".py",
   "mimetype": "text/x-python",
   "name": "python",
   "nbconvert_exporter": "python",
   "pygments_lexer": "ipython3",
   "version": "3.9.7"
  },
  "orig_nbformat": 4
 },
 "nbformat": 4,
 "nbformat_minor": 2
}
