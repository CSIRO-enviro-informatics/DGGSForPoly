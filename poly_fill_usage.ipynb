{
 "cells": [
  {
   "cell_type": "code",
   "execution_count": 19,
   "metadata": {},
   "outputs": [
    {
     "name": "stdout",
     "output_type": "stream",
     "text": [
      "Requirement already satisfied: DGGSForPoly in c:\\users\\rossp\\anaconda3\\envs\\testing_poly_fill\\lib\\site-packages (0.2.18)\n",
      "Requirement already satisfied: rhealpixdggs in c:\\users\\rossp\\anaconda3\\envs\\testing_poly_fill\\lib\\site-packages (from DGGSForPoly) (0.5.3)\n",
      "Requirement already satisfied: Shapely in c:\\users\\rossp\\anaconda3\\envs\\testing_poly_fill\\lib\\site-packages (from DGGSForPoly) (1.8.0)\n",
      "Requirement already satisfied: numpy>=1.7 in c:\\users\\rossp\\anaconda3\\envs\\testing_poly_fill\\lib\\site-packages (from rhealpixdggs->DGGSForPoly) (1.22.2)\n",
      "Requirement already satisfied: matplotlib>=1.2.1 in c:\\users\\rossp\\anaconda3\\envs\\testing_poly_fill\\lib\\site-packages (from rhealpixdggs->DGGSForPoly) (3.5.1)\n",
      "Requirement already satisfied: scipy>=0.12 in c:\\users\\rossp\\anaconda3\\envs\\testing_poly_fill\\lib\\site-packages (from rhealpixdggs->DGGSForPoly) (1.8.0)\n",
      "Requirement already satisfied: pyproj>=1.9.3 in c:\\users\\rossp\\anaconda3\\envs\\testing_poly_fill\\lib\\site-packages (from rhealpixdggs->DGGSForPoly) (3.3.0)\n",
      "Requirement already satisfied: kiwisolver>=1.0.1 in c:\\users\\rossp\\anaconda3\\envs\\testing_poly_fill\\lib\\site-packages (from matplotlib>=1.2.1->rhealpixdggs->DGGSForPoly) (1.3.2)\n",
      "Requirement already satisfied: fonttools>=4.22.0 in c:\\users\\rossp\\anaconda3\\envs\\testing_poly_fill\\lib\\site-packages (from matplotlib>=1.2.1->rhealpixdggs->DGGSForPoly) (4.29.1)\n",
      "Requirement already satisfied: python-dateutil>=2.7 in c:\\users\\rossp\\anaconda3\\envs\\testing_poly_fill\\lib\\site-packages (from matplotlib>=1.2.1->rhealpixdggs->DGGSForPoly) (2.8.2)\n",
      "Requirement already satisfied: pillow>=6.2.0 in c:\\users\\rossp\\anaconda3\\envs\\testing_poly_fill\\lib\\site-packages (from matplotlib>=1.2.1->rhealpixdggs->DGGSForPoly) (9.0.1)\n",
      "Requirement already satisfied: cycler>=0.10 in c:\\users\\rossp\\anaconda3\\envs\\testing_poly_fill\\lib\\site-packages (from matplotlib>=1.2.1->rhealpixdggs->DGGSForPoly) (0.11.0)\n",
      "Requirement already satisfied: packaging>=20.0 in c:\\users\\rossp\\anaconda3\\envs\\testing_poly_fill\\lib\\site-packages (from matplotlib>=1.2.1->rhealpixdggs->DGGSForPoly) (21.3)\n",
      "Requirement already satisfied: pyparsing>=2.2.1 in c:\\users\\rossp\\anaconda3\\envs\\testing_poly_fill\\lib\\site-packages (from matplotlib>=1.2.1->rhealpixdggs->DGGSForPoly) (3.0.7)\n",
      "Requirement already satisfied: certifi in c:\\users\\rossp\\anaconda3\\envs\\testing_poly_fill\\lib\\site-packages (from pyproj>=1.9.3->rhealpixdggs->DGGSForPoly) (2021.10.8)\n",
      "Requirement already satisfied: six>=1.5 in c:\\users\\rossp\\anaconda3\\envs\\testing_poly_fill\\lib\\site-packages (from python-dateutil>=2.7->matplotlib>=1.2.1->rhealpixdggs->DGGSForPoly) (1.16.0)\n",
      "Note: you may need to restart the kernel to use updated packages.\n"
     ]
    }
   ],
   "source": [
    "pip install DGGSForPoly"
   ]
  },
  {
   "cell_type": "code",
   "execution_count": null,
   "metadata": {},
   "outputs": [],
   "source": [
    "\n"
   ]
  },
  {
   "cell_type": "code",
   "execution_count": 20,
   "metadata": {},
   "outputs": [],
   "source": [
    "from DGGSForPoly.poly_fill import poly_fill, poly_fill_from_geojson # poly_fill\n",
    "import json # for reading in data"
   ]
  },
  {
   "cell_type": "markdown",
   "metadata": {},
   "source": [
    "# Reading in Data"
   ]
  },
  {
   "cell_type": "code",
   "execution_count": 50,
   "metadata": {},
   "outputs": [],
   "source": [
    "f = open(\"spatial_data/BlackMountain_3_MultiPolygon.geojson\") # has 3 features\n",
    "gj_obj = json.loads(f.read()) "
   ]
  },
  {
   "cell_type": "markdown",
   "metadata": {},
   "source": [
    "## Format Data for entry to poly_fill"
   ]
  },
  {
   "cell_type": "code",
   "execution_count": 22,
   "metadata": {},
   "outputs": [],
   "source": [
    "feature_num=0 # Pass in 'poly_num'th feature in the geojson\n",
    "poly_dict = gj_obj['features'][feature_num]['geometry'] # geojson style dict input for poly_fill"
   ]
  },
  {
   "cell_type": "markdown",
   "metadata": {},
   "source": [
    "# Basic Usage\n",
    "polyfill requires only an input polygon and the desired resolution. The input polygon can be the dictionary of a geojson feature (see above), or a shapely object."
   ]
  },
  {
   "cell_type": "code",
   "execution_count": 31,
   "metadata": {},
   "outputs": [
    {
     "name": "stdout",
     "output_type": "stream",
     "text": [
      "Found 575 cells\n"
     ]
    }
   ],
   "source": [
    "dggs_cells = poly_fill(geojson=poly_dict, max_res=10) # From poly dict\n",
    "print(\"Found {0} cells\".format(len(dggs_cells)))"
   ]
  },
  {
   "cell_type": "code",
   "execution_count": 24,
   "metadata": {},
   "outputs": [
    {
     "name": "stdout",
     "output_type": "stream",
     "text": [
      "Found 575 cells\n"
     ]
    }
   ],
   "source": [
    "from shapely.geometry import shape\n",
    "shapely_obj = shape(poly_dict)\n",
    "dggs_cells = poly_fill(polygon=shapely_obj, max_res=10) # From Shapely (Multi)Poly\n",
    "print(\"Found {0} cells\".format(len(dggs_cells)))"
   ]
  },
  {
   "cell_type": "markdown",
   "metadata": {},
   "source": [
    "## Contorl over Hierarchical cell represensations\n",
    "poly_fill can return uniform cell level or hybrid cell level represenation of spatial geometries. The default is Hybrid and this can be contorled by changing the 'hybrid' bool paramter ."
   ]
  },
  {
   "cell_type": "code",
   "execution_count": 25,
   "metadata": {},
   "outputs": [
    {
     "name": "stdout",
     "output_type": "stream",
     "text": [
      "Found 1167 cells\n"
     ]
    }
   ],
   "source": [
    "dggs_cells = poly_fill(geojson=poly_dict, max_res=10, hybrid=False) # From poly dict\n",
    "print(\"Found {0} cells\".format(len(dggs_cells)))"
   ]
  },
  {
   "cell_type": "markdown",
   "metadata": {},
   "source": [
    "## Fill Strategy Control\n",
    "In addition to hybridisation control, poly_fill implements 3 fill strategies:   \n",
    "1. **poly_fully_covered_by_cells** - cells included if they overlap the query polygon   \n",
    "2. **centroids_in_poly** - cells included if their centroids are within the query polygon   \n",
    "3. **cells_fully_contained_in_poly** - cells included if they're fully within the query polygon   \n",
    "\n",
    "Control by changing 'fill_strategy' parameter to be one of the above bolded strings. Default is 1.\n"
   ]
  },
  {
   "cell_type": "code",
   "execution_count": 26,
   "metadata": {},
   "outputs": [
    {
     "name": "stdout",
     "output_type": "stream",
     "text": [
      "Found 575 cells\n"
     ]
    }
   ],
   "source": [
    "dggs_cells = poly_fill(geojson=poly_dict, max_res=10, fill_strategy='poly_fully_covered_by_cells') # From poly dict\n",
    "print(\"Found {0} cells\".format(len(dggs_cells)))"
   ]
  },
  {
   "cell_type": "code",
   "execution_count": 27,
   "metadata": {},
   "outputs": [
    {
     "name": "stdout",
     "output_type": "stream",
     "text": [
      "Found 427 cells\n"
     ]
    }
   ],
   "source": [
    "dggs_cells = poly_fill(geojson=poly_dict, max_res=10, fill_strategy='centroids_in_poly') # From poly dict\n",
    "print(\"Found {0} cells\".format(len(dggs_cells)))"
   ]
  },
  {
   "cell_type": "code",
   "execution_count": 28,
   "metadata": {},
   "outputs": [
    {
     "name": "stdout",
     "output_type": "stream",
     "text": [
      "Found 294 cells\n"
     ]
    }
   ],
   "source": [
    "dggs_cells = poly_fill(geojson=poly_dict, max_res=10, fill_strategy='cells_fully_contained_in_poly') # From poly dict\n",
    "print(\"Found {0} cells\".format(len(dggs_cells)))"
   ]
  },
  {
   "cell_type": "markdown",
   "metadata": {},
   "source": [
    "# poly_fill from raw geojson (with potentially multiple geometries)\n",
    "poly_fill_from_geojson can return list of dggs cells lists, one for each geometry (Feature) in an inputted geojson. The dggs cell lists are in the same order they are in the geojson."
   ]
  },
  {
   "cell_type": "code",
   "execution_count": 65,
   "metadata": {},
   "outputs": [],
   "source": [
    "f = open(\"spatial_data/BlackMountain_3_MultiPolygon.geojson\") # Has 3 features\n",
    "gj_obj = json.loads(f.read()) \n",
    "list_of_dggs_cell_lists = poly_fill_from_geojson(geojson_obj=gj_obj, max_res=10)"
   ]
  },
  {
   "cell_type": "code",
   "execution_count": 66,
   "metadata": {},
   "outputs": [
    {
     "name": "stdout",
     "output_type": "stream",
     "text": [
      "3 cell-based representations computed. The first containing 575 cells\n"
     ]
    }
   ],
   "source": [
    "print(\"{0} cell-based representations computed. The first containing {1} cells\"\\\n",
    ".format(len(list_of_dggs_cell_lists), len(list_of_dggs_cell_lists[0])))"
   ]
  },
  {
   "cell_type": "markdown",
   "metadata": {},
   "source": [
    "# Plotting DGGS Cells"
   ]
  },
  {
   "cell_type": "code",
   "execution_count": 29,
   "metadata": {},
   "outputs": [
    {
     "name": "stdout",
     "output_type": "stream",
     "text": [
      "Collecting geopandas\n",
      "  Using cached geopandas-0.10.2-py2.py3-none-any.whl (1.0 MB)\n",
      "Requirement already satisfied: pandas in c:\\users\\rossp\\anaconda3\\envs\\testing_poly_fill\\lib\\site-packages (from -r requirements_nb.txt (line 2)) (1.4.0)\n",
      "Requirement already satisfied: ipyleaflet in c:\\users\\rossp\\anaconda3\\envs\\testing_poly_fill\\lib\\site-packages (from -r requirements_nb.txt (line 3)) (0.15.0)\n",
      "Requirement already satisfied: pyproj>=2.2.0 in c:\\users\\rossp\\anaconda3\\envs\\testing_poly_fill\\lib\\site-packages (from geopandas->-r requirements_nb.txt (line 1)) (3.3.0)\n",
      "Requirement already satisfied: shapely>=1.6 in c:\\users\\rossp\\anaconda3\\envs\\testing_poly_fill\\lib\\site-packages (from geopandas->-r requirements_nb.txt (line 1)) (1.8.0)\n",
      "Collecting fiona>=1.8\n",
      "  Using cached Fiona-1.8.21.tar.gz (1.0 MB)\n",
      "  Using cached Fiona-1.8.20.tar.gz (1.3 MB)\n",
      "  Using cached Fiona-1.8.19.tar.gz (1.3 MB)\n",
      "  Using cached Fiona-1.8.18.tar.gz (1.3 MB)\n",
      "  Using cached Fiona-1.8.17.tar.gz (1.3 MB)\n",
      "  Using cached Fiona-1.8.16.tar.gz (1.3 MB)\n",
      "  Using cached Fiona-1.8.15.tar.gz (1.3 MB)\n",
      "  Using cached Fiona-1.8.14.tar.gz (1.3 MB)\n",
      "  Using cached Fiona-1.8.13.post1.tar.gz (1.2 MB)\n",
      "  Using cached Fiona-1.8.13.tar.gz (1.2 MB)\n",
      "  Using cached Fiona-1.8.12.tar.gz (1.2 MB)\n",
      "  Using cached Fiona-1.8.11.tar.gz (1.2 MB)\n",
      "  Using cached Fiona-1.8.10.tar.gz (1.2 MB)\n",
      "  Using cached Fiona-1.8.9.post2.tar.gz (1.2 MB)\n",
      "  Using cached Fiona-1.8.9.post1.tar.gz (1.2 MB)\n",
      "  Using cached Fiona-1.8.9.tar.gz (1.2 MB)\n",
      "  Using cached Fiona-1.8.8.tar.gz (1.7 MB)\n",
      "  Using cached Fiona-1.8.7.tar.gz (1.7 MB)\n",
      "  Using cached Fiona-1.8.6.tar.gz (1.7 MB)\n",
      "  Using cached Fiona-1.8.5.tar.gz (1.7 MB)\n",
      "  Using cached Fiona-1.8.4.tar.gz (1.1 MB)\n",
      "  Using cached Fiona-1.8.3.tar.gz (1.1 MB)\n",
      "  Using cached Fiona-1.8.2.tar.gz (1.2 MB)\n",
      "  Using cached Fiona-1.8.1.tar.gz (1.1 MB)\n",
      "  Using cached Fiona-1.8.0.tar.gz (1.4 MB)\n",
      "Collecting geopandas\n",
      "  Using cached geopandas-0.10.1-py2.py3-none-any.whl (1.0 MB)\n",
      "  Using cached geopandas-0.10.0-py2.py3-none-any.whl (1.0 MB)\n",
      "  Using cached geopandas-0.9.0-py2.py3-none-any.whl (994 kB)\n",
      "  Using cached geopandas-0.8.2-py2.py3-none-any.whl (962 kB)\n",
      "Collecting fiona\n",
      "  Using cached Fiona-1.7.13.tar.gz (731 kB)\n",
      "Requirement already satisfied: python-dateutil>=2.8.1 in c:\\users\\rossp\\anaconda3\\envs\\testing_poly_fill\\lib\\site-packages (from pandas->-r requirements_nb.txt (line 2)) (2.8.2)\n",
      "Requirement already satisfied: numpy>=1.18.5 in c:\\users\\rossp\\anaconda3\\envs\\testing_poly_fill\\lib\\site-packages (from pandas->-r requirements_nb.txt (line 2)) (1.22.2)\n",
      "Requirement already satisfied: pytz>=2020.1 in c:\\users\\rossp\\anaconda3\\envs\\testing_poly_fill\\lib\\site-packages (from pandas->-r requirements_nb.txt (line 2)) (2021.3)\n",
      "Requirement already satisfied: xyzservices>=2021.8.1 in c:\\users\\rossp\\anaconda3\\envs\\testing_poly_fill\\lib\\site-packages (from ipyleaflet->-r requirements_nb.txt (line 3)) (2022.1.1)\n",
      "Requirement already satisfied: ipywidgets<8,>=7.6.0 in c:\\users\\rossp\\anaconda3\\envs\\testing_poly_fill\\lib\\site-packages (from ipyleaflet->-r requirements_nb.txt (line 3)) (7.6.5)\n",
      "Requirement already satisfied: traittypes<3,>=0.2.1 in c:\\users\\rossp\\anaconda3\\envs\\testing_poly_fill\\lib\\site-packages (from ipyleaflet->-r requirements_nb.txt (line 3)) (0.2.1)\n",
      "Requirement already satisfied: jupyterlab-widgets>=1.0.0 in c:\\users\\rossp\\anaconda3\\envs\\testing_poly_fill\\lib\\site-packages (from ipywidgets<8,>=7.6.0->ipyleaflet->-r requirements_nb.txt (line 3)) (1.0.2)\n",
      "Requirement already satisfied: traitlets>=4.3.1 in c:\\users\\rossp\\anaconda3\\envs\\testing_poly_fill\\lib\\site-packages (from ipywidgets<8,>=7.6.0->ipyleaflet->-r requirements_nb.txt (line 3)) (5.1.1)\n",
      "Requirement already satisfied: ipykernel>=4.5.1 in c:\\users\\rossp\\anaconda3\\envs\\testing_poly_fill\\lib\\site-packages (from ipywidgets<8,>=7.6.0->ipyleaflet->-r requirements_nb.txt (line 3)) (6.4.1)Note: you may need to restart the kernel to use updated packages.\n",
      "Requirement already satisfied: widgetsnbextension~=3.5.0 in c:\\users\\rossp\\anaconda3\\envs\\testing_poly_fill\\lib\\site-packages (from ipywidgets<8,>=7.6.0->ipyleaflet->-r requirements_nb.txt (line 3)) (3.5.2)\n",
      "Requirement already satisfied: ipython>=4.0.0 in c:\\users\\rossp\\anaconda3\\envs\\testing_poly_fill\\lib\\site-packages (from ipywidgets<8,>=7.6.0->ipyleaflet->-r requirements_nb.txt (line 3)) (7.31.1)\n"
     ]
    },
    {
     "name": "stderr",
     "output_type": "stream",
     "text": [
      "    ERROR: Command errored out with exit status 1:\n",
      "     command: 'C:\\Users\\rossp\\anaconda3\\envs\\testing_poly_fill\\python.exe' -c 'import io, os, sys, setuptools, tokenize; sys.argv[0] = '\"'\"'C:\\\\Users\\\\rossp\\\\AppData\\\\Local\\\\Temp\\\\pip-install-fqm4i8ri\\\\fiona_2a6644c90c6c4b3b949a31fa6aa5c0b2\\\\setup.py'\"'\"'; __file__='\"'\"'C:\\\\Users\\\\rossp\\\\AppData\\\\Local\\\\Temp\\\\pip-install-fqm4i8ri\\\\fiona_2a6644c90c6c4b3b949a31fa6aa5c0b2\\\\setup.py'\"'\"';f = getattr(tokenize, '\"'\"'open'\"'\"', open)(__file__) if os.path.exists(__file__) else io.StringIO('\"'\"'from setuptools import setup; setup()'\"'\"');code = f.read().replace('\"'\"'\\r\\n'\"'\"', '\"'\"'\\n'\"'\"');f.close();exec(compile(code, __file__, '\"'\"'exec'\"'\"'))' egg_info --egg-base 'C:\\Users\\rossp\\AppData\\Local\\Temp\\pip-pip-egg-info-8fq_2uop'\n",
      "         cwd: C:\\Users\\rossp\\AppData\\Local\\Temp\\pip-install-fqm4i8ri\\fiona_2a6644c90c6c4b3b949a31fa6aa5c0b2\\\n",
      "    Complete output (1 lines):\n",
      "    A GDAL API version must be specified. Provide a path to gdal-config using a GDAL_CONFIG environment variable or use a GDAL_VERSION environment variable.\n",
      "    ----------------------------------------\n",
      "WARNING: Discarding https://files.pythonhosted.org/packages/67/5c/4e028e84a1f0cb3f8a994217cf2366360ca984dfc1433f6171de527d0dca/Fiona-1.8.21.tar.gz#sha256=3a0edca2a7a070db405d71187214a43d2333a57b4097544a3fcc282066a58bfc (from https://pypi.org/simple/fiona/). Command errored out with exit status 1: python setup.py egg_info Check the logs for full command output.\n",
      "    ERROR: Command errored out with exit status 1:\n",
      "     command: 'C:\\Users\\rossp\\anaconda3\\envs\\testing_poly_fill\\python.exe' -c 'import io, os, sys, setuptools, tokenize; sys.argv[0] = '\"'\"'C:\\\\Users\\\\rossp\\\\AppData\\\\Local\\\\Temp\\\\pip-install-fqm4i8ri\\\\fiona_ad0ae25fcc44440fbd4262abeac84f77\\\\setup.py'\"'\"'; __file__='\"'\"'C:\\\\Users\\\\rossp\\\\AppData\\\\Local\\\\Temp\\\\pip-install-fqm4i8ri\\\\fiona_ad0ae25fcc44440fbd4262abeac84f77\\\\setup.py'\"'\"';f = getattr(tokenize, '\"'\"'open'\"'\"', open)(__file__) if os.path.exists(__file__) else io.StringIO('\"'\"'from setuptools import setup; setup()'\"'\"');code = f.read().replace('\"'\"'\\r\\n'\"'\"', '\"'\"'\\n'\"'\"');f.close();exec(compile(code, __file__, '\"'\"'exec'\"'\"'))' egg_info --egg-base 'C:\\Users\\rossp\\AppData\\Local\\Temp\\pip-pip-egg-info-wt4vgf07'\n",
      "         cwd: C:\\Users\\rossp\\AppData\\Local\\Temp\\pip-install-fqm4i8ri\\fiona_ad0ae25fcc44440fbd4262abeac84f77\\\n",
      "    Complete output (1 lines):\n",
      "    A GDAL API version must be specified. Provide a path to gdal-config using a GDAL_CONFIG environment variable or use a GDAL_VERSION environment variable.\n",
      "    ----------------------------------------\n",
      "WARNING: Discarding https://files.pythonhosted.org/packages/ec/f7/093890341a7e8fbfcdfa04caf4dfb588ebab32c13ceaa6a3819da79ea106/Fiona-1.8.20.tar.gz#sha256=a70502d2857b82f749c09cb0dea3726787747933a2a1599b5ab787d74e3c143b (from https://pypi.org/simple/fiona/). Command errored out with exit status 1: python setup.py egg_info Check the logs for full command output.\n",
      "    ERROR: Command errored out with exit status 1:\n",
      "     command: 'C:\\Users\\rossp\\anaconda3\\envs\\testing_poly_fill\\python.exe' -c 'import io, os, sys, setuptools, tokenize; sys.argv[0] = '\"'\"'C:\\\\Users\\\\rossp\\\\AppData\\\\Local\\\\Temp\\\\pip-install-fqm4i8ri\\\\fiona_d1bccb7476e640dfbf8661d892fcdfb7\\\\setup.py'\"'\"'; __file__='\"'\"'C:\\\\Users\\\\rossp\\\\AppData\\\\Local\\\\Temp\\\\pip-install-fqm4i8ri\\\\fiona_d1bccb7476e640dfbf8661d892fcdfb7\\\\setup.py'\"'\"';f = getattr(tokenize, '\"'\"'open'\"'\"', open)(__file__) if os.path.exists(__file__) else io.StringIO('\"'\"'from setuptools import setup; setup()'\"'\"');code = f.read().replace('\"'\"'\\r\\n'\"'\"', '\"'\"'\\n'\"'\"');f.close();exec(compile(code, __file__, '\"'\"'exec'\"'\"'))' egg_info --egg-base 'C:\\Users\\rossp\\AppData\\Local\\Temp\\pip-pip-egg-info-jhruz4u1'\n",
      "         cwd: C:\\Users\\rossp\\AppData\\Local\\Temp\\pip-install-fqm4i8ri\\fiona_d1bccb7476e640dfbf8661d892fcdfb7\\\n",
      "    Complete output (1 lines):\n",
      "    A GDAL API version must be specified. Provide a path to gdal-config using a GDAL_CONFIG environment variable or use a GDAL_VERSION environment variable.\n",
      "    ----------------------------------------\n",
      "WARNING: Discarding https://files.pythonhosted.org/packages/a0/d9/6042aeb073d11341f7726de0586ff71c13117c34959dcf07bd4ee6d4b93e/Fiona-1.8.19.tar.gz#sha256=b9059e0b29c2e9e6b817e53f941e77e1aca7075f986005d38db307067b60458f (from https://pypi.org/simple/fiona/). Command errored out with exit status 1: python setup.py egg_info Check the logs for full command output.\n",
      "    ERROR: Command errored out with exit status 1:\n",
      "     command: 'C:\\Users\\rossp\\anaconda3\\envs\\testing_poly_fill\\python.exe' -c 'import io, os, sys, setuptools, tokenize; sys.argv[0] = '\"'\"'C:\\\\Users\\\\rossp\\\\AppData\\\\Local\\\\Temp\\\\pip-install-fqm4i8ri\\\\fiona_d747ff47df3f451196facdc459a0d618\\\\setup.py'\"'\"'; __file__='\"'\"'C:\\\\Users\\\\rossp\\\\AppData\\\\Local\\\\Temp\\\\pip-install-fqm4i8ri\\\\fiona_d747ff47df3f451196facdc459a0d618\\\\setup.py'\"'\"';f = getattr(tokenize, '\"'\"'open'\"'\"', open)(__file__) if os.path.exists(__file__) else io.StringIO('\"'\"'from setuptools import setup; setup()'\"'\"');code = f.read().replace('\"'\"'\\r\\n'\"'\"', '\"'\"'\\n'\"'\"');f.close();exec(compile(code, __file__, '\"'\"'exec'\"'\"'))' egg_info --egg-base 'C:\\Users\\rossp\\AppData\\Local\\Temp\\pip-pip-egg-info-qcd4kaiy'\n",
      "         cwd: C:\\Users\\rossp\\AppData\\Local\\Temp\\pip-install-fqm4i8ri\\fiona_d747ff47df3f451196facdc459a0d618\\\n",
      "    Complete output (1 lines):\n",
      "    A GDAL API version must be specified. Provide a path to gdal-config using a GDAL_CONFIG environment variable or use a GDAL_VERSION environment variable.\n",
      "    ----------------------------------------\n",
      "WARNING: Discarding https://files.pythonhosted.org/packages/9f/e8/401cdaa58d862a25c4b3365acf7d2bd7ac77191e3dc9acdcdac0eff20ff0/Fiona-1.8.18.tar.gz#sha256=b732ece0ff8886a29c439723a3e1fc382718804bb057519d537a81308854967a (from https://pypi.org/simple/fiona/). Command errored out with exit status 1: python setup.py egg_info Check the logs for full command output.\n",
      "    ERROR: Command errored out with exit status 1:\n",
      "     command: 'C:\\Users\\rossp\\anaconda3\\envs\\testing_poly_fill\\python.exe' -c 'import io, os, sys, setuptools, tokenize; sys.argv[0] = '\"'\"'C:\\\\Users\\\\rossp\\\\AppData\\\\Local\\\\Temp\\\\pip-install-fqm4i8ri\\\\fiona_10b7527d881b4503835288b9200473f7\\\\setup.py'\"'\"'; __file__='\"'\"'C:\\\\Users\\\\rossp\\\\AppData\\\\Local\\\\Temp\\\\pip-install-fqm4i8ri\\\\fiona_10b7527d881b4503835288b9200473f7\\\\setup.py'\"'\"';f = getattr(tokenize, '\"'\"'open'\"'\"', open)(__file__) if os.path.exists(__file__) else io.StringIO('\"'\"'from setuptools import setup; setup()'\"'\"');code = f.read().replace('\"'\"'\\r\\n'\"'\"', '\"'\"'\\n'\"'\"');f.close();exec(compile(code, __file__, '\"'\"'exec'\"'\"'))' egg_info --egg-base 'C:\\Users\\rossp\\AppData\\Local\\Temp\\pip-pip-egg-info-l6ud4s7l'\n",
      "         cwd: C:\\Users\\rossp\\AppData\\Local\\Temp\\pip-install-fqm4i8ri\\fiona_10b7527d881b4503835288b9200473f7\\\n",
      "    Complete output (1 lines):\n",
      "    A GDAL API version must be specified. Provide a path to gdal-config using a GDAL_CONFIG environment variable or use a GDAL_VERSION environment variable.\n",
      "    ----------------------------------------\n",
      "WARNING: Discarding https://files.pythonhosted.org/packages/88/62/69347ba2c41b526e1953c4cb66d51170b2869808863c03af202ba0121670/Fiona-1.8.17.tar.gz#sha256=716201c21246587f374785bec6d6a20a984fe1f6c2b0e83bf15127eb8f724d0c (from https://pypi.org/simple/fiona/). Command errored out with exit status 1: python setup.py egg_info Check the logs for full command output.\n",
      "    ERROR: Command errored out with exit status 1:\n",
      "     command: 'C:\\Users\\rossp\\anaconda3\\envs\\testing_poly_fill\\python.exe' -c 'import io, os, sys, setuptools, tokenize; sys.argv[0] = '\"'\"'C:\\\\Users\\\\rossp\\\\AppData\\\\Local\\\\Temp\\\\pip-install-fqm4i8ri\\\\fiona_57ecd1e407f24095b8433d96240d3b1b\\\\setup.py'\"'\"'; __file__='\"'\"'C:\\\\Users\\\\rossp\\\\AppData\\\\Local\\\\Temp\\\\pip-install-fqm4i8ri\\\\fiona_57ecd1e407f24095b8433d96240d3b1b\\\\setup.py'\"'\"';f = getattr(tokenize, '\"'\"'open'\"'\"', open)(__file__) if os.path.exists(__file__) else io.StringIO('\"'\"'from setuptools import setup; setup()'\"'\"');code = f.read().replace('\"'\"'\\r\\n'\"'\"', '\"'\"'\\n'\"'\"');f.close();exec(compile(code, __file__, '\"'\"'exec'\"'\"'))' egg_info --egg-base 'C:\\Users\\rossp\\AppData\\Local\\Temp\\pip-pip-egg-info-3xticug5'\n",
      "         cwd: C:\\Users\\rossp\\AppData\\Local\\Temp\\pip-install-fqm4i8ri\\fiona_57ecd1e407f24095b8433d96240d3b1b\\\n",
      "    Complete output (1 lines):\n",
      "    A GDAL API version must be specified. Provide a path to gdal-config using a GDAL_CONFIG environment variable or use a GDAL_VERSION environment variable.\n",
      "    ----------------------------------------\n",
      "WARNING: Discarding https://files.pythonhosted.org/packages/1e/60/dfc6115a11338d8aa96cacd8c60635223d9c97d61d556c90acc5dfd663fa/Fiona-1.8.16.tar.gz#sha256=fd6dfb65959becc916e9f6928618bfd59c16cdbc413ece0fbac61489cd11255f (from https://pypi.org/simple/fiona/). Command errored out with exit status 1: python setup.py egg_info Check the logs for full command output.\n",
      "    ERROR: Command errored out with exit status 1:\n",
      "     command: 'C:\\Users\\rossp\\anaconda3\\envs\\testing_poly_fill\\python.exe' -c 'import io, os, sys, setuptools, tokenize; sys.argv[0] = '\"'\"'C:\\\\Users\\\\rossp\\\\AppData\\\\Local\\\\Temp\\\\pip-install-fqm4i8ri\\\\fiona_43492c8f625c41c182e0d443116b618c\\\\setup.py'\"'\"'; __file__='\"'\"'C:\\\\Users\\\\rossp\\\\AppData\\\\Local\\\\Temp\\\\pip-install-fqm4i8ri\\\\fiona_43492c8f625c41c182e0d443116b618c\\\\setup.py'\"'\"';f = getattr(tokenize, '\"'\"'open'\"'\"', open)(__file__) if os.path.exists(__file__) else io.StringIO('\"'\"'from setuptools import setup; setup()'\"'\"');code = f.read().replace('\"'\"'\\r\\n'\"'\"', '\"'\"'\\n'\"'\"');f.close();exec(compile(code, __file__, '\"'\"'exec'\"'\"'))' egg_info --egg-base 'C:\\Users\\rossp\\AppData\\Local\\Temp\\pip-pip-egg-info-nqnni3pw'\n",
      "         cwd: C:\\Users\\rossp\\AppData\\Local\\Temp\\pip-install-fqm4i8ri\\fiona_43492c8f625c41c182e0d443116b618c\\\n",
      "    Complete output (1 lines):\n",
      "    A GDAL API version must be specified. Provide a path to gdal-config using a GDAL_CONFIG environment variable or use a GDAL_VERSION environment variable.\n",
      "    ----------------------------------------\n",
      "WARNING: Discarding https://files.pythonhosted.org/packages/55/2f/17450ec2c8fcc720a8a3e4d9a383499508475c7cfb90f7eca9fb585ac598/Fiona-1.8.15.tar.gz#sha256=3b1c9b5c834fae2fe947cfaea176db890bc6750d1a6ba9f54d969c19ffcd191e (from https://pypi.org/simple/fiona/). Command errored out with exit status 1: python setup.py egg_info Check the logs for full command output.\n",
      "    ERROR: Command errored out with exit status 1:\n",
      "     command: 'C:\\Users\\rossp\\anaconda3\\envs\\testing_poly_fill\\python.exe' -c 'import io, os, sys, setuptools, tokenize; sys.argv[0] = '\"'\"'C:\\\\Users\\\\rossp\\\\AppData\\\\Local\\\\Temp\\\\pip-install-fqm4i8ri\\\\fiona_86344b1e880f4d93b0508de13946449c\\\\setup.py'\"'\"'; __file__='\"'\"'C:\\\\Users\\\\rossp\\\\AppData\\\\Local\\\\Temp\\\\pip-install-fqm4i8ri\\\\fiona_86344b1e880f4d93b0508de13946449c\\\\setup.py'\"'\"';f = getattr(tokenize, '\"'\"'open'\"'\"', open)(__file__) if os.path.exists(__file__) else io.StringIO('\"'\"'from setuptools import setup; setup()'\"'\"');code = f.read().replace('\"'\"'\\r\\n'\"'\"', '\"'\"'\\n'\"'\"');f.close();exec(compile(code, __file__, '\"'\"'exec'\"'\"'))' egg_info --egg-base 'C:\\Users\\rossp\\AppData\\Local\\Temp\\pip-pip-egg-info-bn2u4p79'\n",
      "         cwd: C:\\Users\\rossp\\AppData\\Local\\Temp\\pip-install-fqm4i8ri\\fiona_86344b1e880f4d93b0508de13946449c\\\n",
      "    Complete output (1 lines):\n",
      "    A GDAL API version must be specified. Provide a path to gdal-config using a GDAL_CONFIG environment variable or use a GDAL_VERSION environment variable.\n",
      "    ----------------------------------------\n",
      "WARNING: Discarding https://files.pythonhosted.org/packages/5c/fd/5ec54f2d9b3d5dd23dd443fad5630d6b872e2664814c68b856c47e0d65af/Fiona-1.8.14.tar.gz#sha256=6eac038206c89d2cf5f99ea38b81cc228dc21eac5f47870a9a32d453b0007f4d (from https://pypi.org/simple/fiona/). Command errored out with exit status 1: python setup.py egg_info Check the logs for full command output.\n",
      "    ERROR: Command errored out with exit status 1:\n",
      "     command: 'C:\\Users\\rossp\\anaconda3\\envs\\testing_poly_fill\\python.exe' -c 'import io, os, sys, setuptools, tokenize; sys.argv[0] = '\"'\"'C:\\\\Users\\\\rossp\\\\AppData\\\\Local\\\\Temp\\\\pip-install-fqm4i8ri\\\\fiona_3e39673f9d0f47a98c0aa4f336dd95fd\\\\setup.py'\"'\"'; __file__='\"'\"'C:\\\\Users\\\\rossp\\\\AppData\\\\Local\\\\Temp\\\\pip-install-fqm4i8ri\\\\fiona_3e39673f9d0f47a98c0aa4f336dd95fd\\\\setup.py'\"'\"';f = getattr(tokenize, '\"'\"'open'\"'\"', open)(__file__) if os.path.exists(__file__) else io.StringIO('\"'\"'from setuptools import setup; setup()'\"'\"');code = f.read().replace('\"'\"'\\r\\n'\"'\"', '\"'\"'\\n'\"'\"');f.close();exec(compile(code, __file__, '\"'\"'exec'\"'\"'))' egg_info --egg-base 'C:\\Users\\rossp\\AppData\\Local\\Temp\\pip-pip-egg-info-v3y7prr2'\n",
      "         cwd: C:\\Users\\rossp\\AppData\\Local\\Temp\\pip-install-fqm4i8ri\\fiona_3e39673f9d0f47a98c0aa4f336dd95fd\\\n",
      "    Complete output (1 lines):\n",
      "    A GDAL API version must be specified. Provide a path to gdal-config using a GDAL_CONFIG environment variable or use a GDAL_VERSION environment variable.\n",
      "    ----------------------------------------\n",
      "WARNING: Discarding https://files.pythonhosted.org/packages/6d/42/f4a7cac53b28fa70e9a93d0e89a24d33e14826dad6644b699362ad84dde0/Fiona-1.8.13.post1.tar.gz#sha256=1a432bf9fd56f089256c010da009c90d4a795c531a848132c965052185336600 (from https://pypi.org/simple/fiona/). Command errored out with exit status 1: python setup.py egg_info Check the logs for full command output.\n",
      "    ERROR: Command errored out with exit status 1:\n",
      "     command: 'C:\\Users\\rossp\\anaconda3\\envs\\testing_poly_fill\\python.exe' -c 'import io, os, sys, setuptools, tokenize; sys.argv[0] = '\"'\"'C:\\\\Users\\\\rossp\\\\AppData\\\\Local\\\\Temp\\\\pip-install-fqm4i8ri\\\\fiona_8efc22be85a14dbcab35ac913bee8328\\\\setup.py'\"'\"'; __file__='\"'\"'C:\\\\Users\\\\rossp\\\\AppData\\\\Local\\\\Temp\\\\pip-install-fqm4i8ri\\\\fiona_8efc22be85a14dbcab35ac913bee8328\\\\setup.py'\"'\"';f = getattr(tokenize, '\"'\"'open'\"'\"', open)(__file__) if os.path.exists(__file__) else io.StringIO('\"'\"'from setuptools import setup; setup()'\"'\"');code = f.read().replace('\"'\"'\\r\\n'\"'\"', '\"'\"'\\n'\"'\"');f.close();exec(compile(code, __file__, '\"'\"'exec'\"'\"'))' egg_info --egg-base 'C:\\Users\\rossp\\AppData\\Local\\Temp\\pip-pip-egg-info-tsnj1g3i'\n",
      "         cwd: C:\\Users\\rossp\\AppData\\Local\\Temp\\pip-install-fqm4i8ri\\fiona_8efc22be85a14dbcab35ac913bee8328\\\n",
      "    Complete output (1 lines):\n",
      "    A GDAL API version must be specified. Provide a path to gdal-config using a GDAL_CONFIG environment variable or use a GDAL_VERSION environment variable.\n",
      "    ----------------------------------------\n",
      "WARNING: Discarding https://files.pythonhosted.org/packages/be/04/31d0a6f03943b1684f32c9b861be40c1fd282468fa6bd54ddf4a774e6b0f/Fiona-1.8.13.tar.gz#sha256=5ec34898c8b983a723fb4e949dd3e0ed7e691c303e51f6bfd61e52ac9ac813ae (from https://pypi.org/simple/fiona/). Command errored out with exit status 1: python setup.py egg_info Check the logs for full command output.\n",
      "    ERROR: Command errored out with exit status 1:\n",
      "     command: 'C:\\Users\\rossp\\anaconda3\\envs\\testing_poly_fill\\python.exe' -c 'import io, os, sys, setuptools, tokenize; sys.argv[0] = '\"'\"'C:\\\\Users\\\\rossp\\\\AppData\\\\Local\\\\Temp\\\\pip-install-fqm4i8ri\\\\fiona_830e4b73cdbe4e24b86c7b6bfd91d03a\\\\setup.py'\"'\"'; __file__='\"'\"'C:\\\\Users\\\\rossp\\\\AppData\\\\Local\\\\Temp\\\\pip-install-fqm4i8ri\\\\fiona_830e4b73cdbe4e24b86c7b6bfd91d03a\\\\setup.py'\"'\"';f = getattr(tokenize, '\"'\"'open'\"'\"', open)(__file__) if os.path.exists(__file__) else io.StringIO('\"'\"'from setuptools import setup; setup()'\"'\"');code = f.read().replace('\"'\"'\\r\\n'\"'\"', '\"'\"'\\n'\"'\"');f.close();exec(compile(code, __file__, '\"'\"'exec'\"'\"'))' egg_info --egg-base 'C:\\Users\\rossp\\AppData\\Local\\Temp\\pip-pip-egg-info-6l9ssi_f'\n",
      "         cwd: C:\\Users\\rossp\\AppData\\Local\\Temp\\pip-install-fqm4i8ri\\fiona_830e4b73cdbe4e24b86c7b6bfd91d03a\\\n",
      "    Complete output (1 lines):\n",
      "    A GDAL API version must be specified. Provide a path to gdal-config using a GDAL_CONFIG environment variable or use a GDAL_VERSION environment variable.\n",
      "    ----------------------------------------\n",
      "WARNING: Discarding https://files.pythonhosted.org/packages/97/d8/feab39987296437fbdc3029fb39752a14355d217d73b93471010b8dd63a3/Fiona-1.8.12.tar.gz#sha256=c9266ddf6ae2a64fcea20014ddf27f800ac07584f2fdb09c2a02f3b3a52e371c (from https://pypi.org/simple/fiona/). Command errored out with exit status 1: python setup.py egg_info Check the logs for full command output.\n",
      "    ERROR: Command errored out with exit status 1:\n",
      "     command: 'C:\\Users\\rossp\\anaconda3\\envs\\testing_poly_fill\\python.exe' -c 'import io, os, sys, setuptools, tokenize; sys.argv[0] = '\"'\"'C:\\\\Users\\\\rossp\\\\AppData\\\\Local\\\\Temp\\\\pip-install-fqm4i8ri\\\\fiona_98fe86f3b0dc478095fb23c152d799ef\\\\setup.py'\"'\"'; __file__='\"'\"'C:\\\\Users\\\\rossp\\\\AppData\\\\Local\\\\Temp\\\\pip-install-fqm4i8ri\\\\fiona_98fe86f3b0dc478095fb23c152d799ef\\\\setup.py'\"'\"';f = getattr(tokenize, '\"'\"'open'\"'\"', open)(__file__) if os.path.exists(__file__) else io.StringIO('\"'\"'from setuptools import setup; setup()'\"'\"');code = f.read().replace('\"'\"'\\r\\n'\"'\"', '\"'\"'\\n'\"'\"');f.close();exec(compile(code, __file__, '\"'\"'exec'\"'\"'))' egg_info --egg-base 'C:\\Users\\rossp\\AppData\\Local\\Temp\\pip-pip-egg-info-4n3_gzbc'"
     ]
    },
    {
     "name": "stdout",
     "output_type": "stream",
     "text": [
      "\n",
      "Requirement already satisfied: nbformat>=4.2.0 in c:\\users\\rossp\\anaconda3\\envs\\testing_poly_fill\\lib\\site-packages (from ipywidgets<8,>=7.6.0->ipyleaflet->-r requirements_nb.txt (line 3)) (5.1.3)\n",
      "Requirement already satisfied: ipython-genutils~=0.2.0 in c:\\users\\rossp\\anaconda3\\envs\\testing_poly_fill\\lib\\site-packages (from ipywidgets<8,>=7.6.0->ipyleaflet->-r requirements_nb.txt (line 3)) (0.2.0)\n",
      "Requirement already satisfied: debugpy<2.0,>=1.0.0 in c:\\users\\rossp\\anaconda3\\envs\\testing_poly_fill\\lib\\site-packages (from ipykernel>=4.5.1->ipywidgets<8,>=7.6.0->ipyleaflet->-r requirements_nb.txt (line 3)) (1.5.1)\n",
      "Requirement already satisfied: matplotlib-inline<0.2.0,>=0.1.0 in c:\\users\\rossp\\anaconda3\\envs\\testing_poly_fill\\lib\\site-packages (from ipykernel>=4.5.1->ipywidgets<8,>=7.6.0->ipyleaflet->-r requirements_nb.txt (line 3)) (0.1.2)\n",
      "Requirement already satisfied: tornado<7.0,>=4.2 in c:\\users\\rossp\\anaconda3\\envs\\testing_poly_fill\\lib\\site-packages (from ipykernel>=4.5.1->ipywidgets<8,>=7.6.0->ipyleaflet->-r requirements_nb.txt (line 3)) (6.1)\n",
      "Requirement already satisfied: jupyter-client<8.0 in c:\\users\\rossp\\anaconda3\\envs\\testing_poly_fill\\lib\\site-packages (from ipykernel>=4.5.1->ipywidgets<8,>=7.6.0->ipyleaflet->-r requirements_nb.txt (line 3)) (7.1.2)\n",
      "Requirement already satisfied: colorama in c:\\users\\rossp\\anaconda3\\envs\\testing_poly_fill\\lib\\site-packages (from ipython>=4.0.0->ipywidgets<8,>=7.6.0->ipyleaflet->-r requirements_nb.txt (line 3)) (0.4.4)\n",
      "Requirement already satisfied: jedi>=0.16 in c:\\users\\rossp\\anaconda3\\envs\\testing_poly_fill\\lib\\site-packages (from ipython>=4.0.0->ipywidgets<8,>=7.6.0->ipyleaflet->-r requirements_nb.txt (line 3)) (0.18.1)\n",
      "Requirement already satisfied: backcall in c:\\users\\rossp\\anaconda3\\envs\\testing_poly_fill\\lib\\site-packages (from ipython>=4.0.0->ipywidgets<8,>=7.6.0->ipyleaflet->-r requirements_nb.txt (line 3)) (0.2.0)\n",
      "Requirement already satisfied: pickleshare in c:\\users\\rossp\\anaconda3\\envs\\testing_poly_fill\\lib\\site-packages (from ipython>=4.0.0->ipywidgets<8,>=7.6.0->ipyleaflet->-r requirements_nb.txt (line 3)) (0.7.5)\n",
      "Requirement already satisfied: pygments in c:\\users\\rossp\\anaconda3\\envs\\testing_poly_fill\\lib\\site-packages (from ipython>=4.0.0->ipywidgets<8,>=7.6.0->ipyleaflet->-r requirements_nb.txt (line 3)) (2.11.2)\n",
      "Requirement already satisfied: decorator in c:\\users\\rossp\\anaconda3\\envs\\testing_poly_fill\\lib\\site-packages (from ipython>=4.0.0->ipywidgets<8,>=7.6.0->ipyleaflet->-r requirements_nb.txt (line 3)) (5.1.1)\n",
      "Requirement already satisfied: prompt-toolkit!=3.0.0,!=3.0.1,<3.1.0,>=2.0.0 in c:\\users\\rossp\\anaconda3\\envs\\testing_poly_fill\\lib\\site-packages (from ipython>=4.0.0->ipywidgets<8,>=7.6.0->ipyleaflet->-r requirements_nb.txt (line 3)) (3.0.20)\n",
      "Requirement already satisfied: setuptools>=18.5 in c:\\users\\rossp\\anaconda3\\envs\\testing_poly_fill\\lib\\site-packages (from ipython>=4.0.0->ipywidgets<8,>=7.6.0->ipyleaflet->-r requirements_nb.txt (line 3)) (58.0.4)\n",
      "Requirement already satisfied: parso<0.9.0,>=0.8.0 in c:\\users\\rossp\\anaconda3\\envs\\testing_poly_fill\\lib\\site-packages (from jedi>=0.16->ipython>=4.0.0->ipywidgets<8,>=7.6.0->ipyleaflet->-r requirements_nb.txt (line 3)) (0.8.3)\n",
      "Requirement already satisfied: jupyter-core>=4.6.0 in c:\\users\\rossp\\anaconda3\\envs\\testing_poly_fill\\lib\\site-packages (from jupyter-client<8.0->ipykernel>=4.5.1->ipywidgets<8,>=7.6.0->ipyleaflet->-r requirements_nb.txt (line 3)) (4.9.1)\n",
      "Requirement already satisfied: entrypoints in c:\\users\\rossp\\anaconda3\\envs\\testing_poly_fill\\lib\\site-packages (from jupyter-client<8.0->ipykernel>=4.5.1->ipywidgets<8,>=7.6.0->ipyleaflet->-r requirements_nb.txt (line 3)) (0.3)\n",
      "Requirement already satisfied: pyzmq>=13 in c:\\users\\rossp\\anaconda3\\envs\\testing_poly_fill\\lib\\site-packages (from jupyter-client<8.0->ipykernel>=4.5.1->ipywidgets<8,>=7.6.0->ipyleaflet->-r requirements_nb.txt (line 3)) (22.3.0)\n",
      "Requirement already satisfied: nest-asyncio>=1.5 in c:\\users\\rossp\\anaconda3\\envs\\testing_poly_fill\\lib\\site-packages (from jupyter-client<8.0->ipykernel>=4.5.1->ipywidgets<8,>=7.6.0->ipyleaflet->-r requirements_nb.txt (line 3)) (1.5.1)\n",
      "Requirement already satisfied: pywin32>=1.0 in c:\\users\\rossp\\anaconda3\\envs\\testing_poly_fill\\lib\\site-packages (from jupyter-core>=4.6.0->jupyter-client<8.0->ipykernel>=4.5.1->ipywidgets<8,>=7.6.0->ipyleaflet->-r requirements_nb.txt (line 3)) (302)\n",
      "Requirement already satisfied: jsonschema!=2.5.0,>=2.4 in c:\\users\\rossp\\anaconda3\\envs\\testing_poly_fill\\lib\\site-packages (from nbformat>=4.2.0->ipywidgets<8,>=7.6.0->ipyleaflet->-r requirements_nb.txt (line 3)) (4.4.0)\n",
      "Requirement already satisfied: pyrsistent!=0.17.0,!=0.17.1,!=0.17.2,>=0.14.0 in c:\\users\\rossp\\anaconda3\\envs\\testing_poly_fill\\lib\\site-packages (from jsonschema!=2.5.0,>=2.4->nbformat>=4.2.0->ipywidgets<8,>=7.6.0->ipyleaflet->-r requirements_nb.txt (line 3)) (0.18.1)\n",
      "Requirement already satisfied: attrs>=17.4.0 in c:\\users\\rossp\\anaconda3\\envs\\testing_poly_fill\\lib\\site-packages (from jsonschema!=2.5.0,>=2.4->nbformat>=4.2.0->ipywidgets<8,>=7.6.0->ipyleaflet->-r requirements_nb.txt (line 3)) (21.4.0)\n",
      "Requirement already satisfied: wcwidth in c:\\users\\rossp\\anaconda3\\envs\\testing_poly_fill\\lib\\site-packages (from prompt-toolkit!=3.0.0,!=3.0.1,<3.1.0,>=2.0.0->ipython>=4.0.0->ipywidgets<8,>=7.6.0->ipyleaflet->-r requirements_nb.txt (line 3)) (0.2.5)\n",
      "Requirement already satisfied: certifi in c:\\users\\rossp\\anaconda3\\envs\\testing_poly_fill\\lib\\site-packages (from pyproj>=2.2.0->geopandas->-r requirements_nb.txt (line 1)) (2021.10.8)\n",
      "Requirement already satisfied: six>=1.5 in c:\\users\\rossp\\anaconda3\\envs\\testing_poly_fill\\lib\\site-packages (from python-dateutil>=2.8.1->pandas->-r requirements_nb.txt (line 2)) (1.16.0)\n",
      "Requirement already satisfied: notebook>=4.4.1 in c:\\users\\rossp\\anaconda3\\envs\\testing_poly_fill\\lib\\site-packages (from widgetsnbextension~=3.5.0->ipywidgets<8,>=7.6.0->ipyleaflet->-r requirements_nb.txt (line 3)) (6.4.8)\n",
      "Requirement already satisfied: terminado>=0.8.3 in c:\\users\\rossp\\anaconda3\\envs\\testing_poly_fill\\lib\\site-packages (from notebook>=4.4.1->widgetsnbextension~=3.5.0->ipywidgets<8,>=7.6.0->ipyleaflet->-r requirements_nb.txt (line 3)) (0.13.1)\n",
      "Requirement already satisfied: prometheus-client in c:\\users\\rossp\\anaconda3\\envs\\testing_poly_fill\\lib\\site-packages (from notebook>=4.4.1->widgetsnbextension~=3.5.0->ipywidgets<8,>=7.6.0->ipyleaflet->-r requirements_nb.txt (line 3)) (0.13.1)\n",
      "Requirement already satisfied: Send2Trash>=1.8.0 in c:\\users\\rossp\\anaconda3\\envs\\testing_poly_fill\\lib\\site-packages (from notebook>=4.4.1->widgetsnbextension~=3.5.0->ipywidgets<8,>=7.6.0->ipyleaflet->-r requirements_nb.txt (line 3)) (1.8.0)\n",
      "Requirement already satisfied: jinja2 in c:\\users\\rossp\\anaconda3\\envs\\testing_poly_fill\\lib\\site-packages (from notebook>=4.4.1->widgetsnbextension~=3.5.0->ipywidgets<8,>=7.6.0->ipyleaflet->-r requirements_nb.txt (line 3)) (3.0.3)\n",
      "Requirement already satisfied: nbconvert in c:\\users\\rossp\\anaconda3\\envs\\testing_poly_fill\\lib\\site-packages (from notebook>=4.4.1->widgetsnbextension~=3.5.0->ipywidgets<8,>=7.6.0->ipyleaflet->-r requirements_nb.txt (line 3)) (6.4.1)\n",
      "Requirement already satisfied: argon2-cffi in c:\\users\\rossp\\anaconda3\\envs\\testing_poly_fill\\lib\\site-packages (from notebook>=4.4.1->widgetsnbextension~=3.5.0->ipywidgets<8,>=7.6.0->ipyleaflet->-r requirements_nb.txt (line 3)) (21.3.0)\n",
      "Requirement already satisfied: pywinpty>=1.1.0 in c:\\users\\rossp\\anaconda3\\envs\\testing_poly_fill\\lib\\site-packages (from terminado>=0.8.3->notebook>=4.4.1->widgetsnbextension~=3.5.0->ipywidgets<8,>=7.6.0->ipyleaflet->-r requirements_nb.txt (line 3)) (2.0.2)\n",
      "Requirement already satisfied: argon2-cffi-bindings in c:\\users\\rossp\\anaconda3\\envs\\testing_poly_fill\\lib\\site-packages (from argon2-cffi->notebook>=4.4.1->widgetsnbextension~=3.5.0->ipywidgets<8,>=7.6.0->ipyleaflet->-r requirements_nb.txt (line 3)) (21.2.0)\n",
      "Requirement already satisfied: cffi>=1.0.1 in c:\\users\\rossp\\anaconda3\\envs\\testing_poly_fill\\lib\\site-packages (from argon2-cffi-bindings->argon2-cffi->notebook>=4.4.1->widgetsnbextension~=3.5.0->ipywidgets<8,>=7.6.0->ipyleaflet->-r requirements_nb.txt (line 3)) (1.15.0)\n",
      "Requirement already satisfied: pycparser in c:\\users\\rossp\\anaconda3\\envs\\testing_poly_fill\\lib\\site-packages (from cffi>=1.0.1->argon2-cffi-bindings->argon2-cffi->notebook>=4.4.1->widgetsnbextension~=3.5.0->ipywidgets<8,>=7.6.0->ipyleaflet->-r requirements_nb.txt (line 3)) (2.21)\n",
      "Requirement already satisfied: cligj>=0.4 in c:\\users\\rossp\\anaconda3\\envs\\testing_poly_fill\\lib\\site-packages (from fiona->geopandas->-r requirements_nb.txt (line 1)) (0.7.2)\n",
      "Requirement already satisfied: click-plugins in c:\\users\\rossp\\anaconda3\\envs\\testing_poly_fill\\lib\\site-packages (from fiona->geopandas->-r requirements_nb.txt (line 1)) (1.1.1)\n",
      "Requirement already satisfied: munch in c:\\users\\rossp\\anaconda3\\envs\\testing_poly_fill\\lib\\site-packages (from fiona->geopandas->-r requirements_nb.txt (line 1)) (2.5.0)\n",
      "Requirement already satisfied: click>=4.0 in c:\\users\\rossp\\anaconda3\\envs\\testing_poly_fill\\lib\\site-packages (from cligj>=0.4->fiona->geopandas->-r requirements_nb.txt (line 1)) (8.0.3)\n",
      "Requirement already satisfied: MarkupSafe>=2.0 in c:\\users\\rossp\\anaconda3\\envs\\testing_poly_fill\\lib\\site-packages (from jinja2->notebook>=4.4.1->widgetsnbextension~=3.5.0->ipywidgets<8,>=7.6.0->ipyleaflet->-r requirements_nb.txt (line 3)) (2.0.1)\n",
      "Requirement already satisfied: jupyterlab-pygments in c:\\users\\rossp\\anaconda3\\envs\\testing_poly_fill\\lib\\site-packages (from nbconvert->notebook>=4.4.1->widgetsnbextension~=3.5.0->ipywidgets<8,>=7.6.0->ipyleaflet->-r requirements_nb.txt (line 3)) (0.1.2)\n",
      "Requirement already satisfied: defusedxml in c:\\users\\rossp\\anaconda3\\envs\\testing_poly_fill\\lib\\site-packages (from nbconvert->notebook>=4.4.1->widgetsnbextension~=3.5.0->ipywidgets<8,>=7.6.0->ipyleaflet->-r requirements_nb.txt (line 3)) (0.7.1)\n",
      "Requirement already satisfied: pandocfilters>=1.4.1 in c:\\users\\rossp\\anaconda3\\envs\\testing_poly_fill\\lib\\site-packages (from nbconvert->notebook>=4.4.1->widgetsnbextension~=3.5.0->ipywidgets<8,>=7.6.0->ipyleaflet->-r requirements_nb.txt (line 3)) (1.5.0)\n",
      "Requirement already satisfied: nbclient<0.6.0,>=0.5.0 in c:\\users\\rossp\\anaconda3\\envs\\testing_poly_fill\\lib\\site-packages (from nbconvert->notebook>=4.4.1->widgetsnbextension~=3.5.0->ipywidgets<8,>=7.6.0->ipyleaflet->-r requirements_nb.txt (line 3)) (0.5.10)\n",
      "Requirement already satisfied: testpath in c:\\users\\rossp\\anaconda3\\envs\\testing_poly_fill\\lib\\site-packages (from nbconvert->notebook>=4.4.1->widgetsnbextension~=3.5.0->ipywidgets<8,>=7.6.0->ipyleaflet->-r requirements_nb.txt (line 3)) (0.5.0)\n",
      "Requirement already satisfied: bleach in c:\\users\\rossp\\anaconda3\\envs\\testing_poly_fill\\lib\\site-packages (from nbconvert->notebook>=4.4.1->widgetsnbextension~=3.5.0->ipywidgets<8,>=7.6.0->ipyleaflet->-r requirements_nb.txt (line 3)) (4.1.0)\n",
      "Requirement already satisfied: mistune<2,>=0.8.1 in c:\\users\\rossp\\anaconda3\\envs\\testing_poly_fill\\lib\\site-packages (from nbconvert->notebook>=4.4.1->widgetsnbextension~=3.5.0->ipywidgets<8,>=7.6.0->ipyleaflet->-r requirements_nb.txt (line 3)) (0.8.4)\n",
      "Requirement already satisfied: packaging in c:\\users\\rossp\\anaconda3\\envs\\testing_poly_fill\\lib\\site-packages (from bleach->nbconvert->notebook>=4.4.1->widgetsnbextension~=3.5.0->ipywidgets<8,>=7.6.0->ipyleaflet->-r requirements_nb.txt (line 3)) (21.3)\n",
      "Requirement already satisfied: webencodings in c:\\users\\rossp\\anaconda3\\envs\\testing_poly_fill\\lib\\site-packages (from bleach->nbconvert->notebook>=4.4.1->widgetsnbextension~=3.5.0->ipywidgets<8,>=7.6.0->ipyleaflet->-r requirements_nb.txt (line 3)) (0.5.1)\n",
      "Requirement already satisfied: pyparsing!=3.0.5,>=2.0.2 in c:\\users\\rossp\\anaconda3\\envs\\testing_poly_fill\\lib\\site-packages (from packaging->bleach->nbconvert->notebook>=4.4.1->widgetsnbextension~=3.5.0->ipywidgets<8,>=7.6.0->ipyleaflet->-r requirements_nb.txt (line 3)) (3.0.7)\n",
      "Building wheels for collected packages: fiona\n",
      "  Building wheel for fiona (setup.py): started\n",
      "  Building wheel for fiona (setup.py): finished with status 'error'\n",
      "  Running setup.py clean for fiona\n",
      "Failed to build fiona\n",
      "Installing collected packages: fiona, geopandas\n",
      "    Running setup.py install for fiona: started\n",
      "    Running setup.py install for fiona: finished with status 'error'\n"
     ]
    },
    {
     "name": "stderr",
     "output_type": "stream",
     "text": [
      "\n",
      "         cwd: C:\\Users\\rossp\\AppData\\Local\\Temp\\pip-install-fqm4i8ri\\fiona_98fe86f3b0dc478095fb23c152d799ef\\\n",
      "    Complete output (1 lines):\n",
      "    A GDAL API version must be specified. Provide a path to gdal-config using a GDAL_CONFIG environment variable or use a GDAL_VERSION environment variable.\n",
      "    ----------------------------------------\n",
      "WARNING: Discarding https://files.pythonhosted.org/packages/9d/f4/0a0ddc6174c4a93679b5f1dd3535e7ef8989828e6d5f86112de681f8c87b/Fiona-1.8.11.tar.gz#sha256=1e7ca9e051f5bffa1c43c70d573da9ca223fc076b84fa73380614fc02b9eb7f6 (from https://pypi.org/simple/fiona/). Command errored out with exit status 1: python setup.py egg_info Check the logs for full command output.\n",
      "    ERROR: Command errored out with exit status 1:\n",
      "     command: 'C:\\Users\\rossp\\anaconda3\\envs\\testing_poly_fill\\python.exe' -c 'import io, os, sys, setuptools, tokenize; sys.argv[0] = '\"'\"'C:\\\\Users\\\\rossp\\\\AppData\\\\Local\\\\Temp\\\\pip-install-fqm4i8ri\\\\fiona_5bd48132e0d44880aa2eb394a78cfbe9\\\\setup.py'\"'\"'; __file__='\"'\"'C:\\\\Users\\\\rossp\\\\AppData\\\\Local\\\\Temp\\\\pip-install-fqm4i8ri\\\\fiona_5bd48132e0d44880aa2eb394a78cfbe9\\\\setup.py'\"'\"';f = getattr(tokenize, '\"'\"'open'\"'\"', open)(__file__) if os.path.exists(__file__) else io.StringIO('\"'\"'from setuptools import setup; setup()'\"'\"');code = f.read().replace('\"'\"'\\r\\n'\"'\"', '\"'\"'\\n'\"'\"');f.close();exec(compile(code, __file__, '\"'\"'exec'\"'\"'))' egg_info --egg-base 'C:\\Users\\rossp\\AppData\\Local\\Temp\\pip-pip-egg-info-8zidawu5'\n",
      "         cwd: C:\\Users\\rossp\\AppData\\Local\\Temp\\pip-install-fqm4i8ri\\fiona_5bd48132e0d44880aa2eb394a78cfbe9\\\n",
      "    Complete output (1 lines):\n",
      "    A GDAL API version must be specified. Provide a path to gdal-config using a GDAL_CONFIG environment variable or use a GDAL_VERSION environment variable.\n",
      "    ----------------------------------------\n",
      "WARNING: Discarding https://files.pythonhosted.org/packages/13/73/f80b491ed8559326fab202a6d6333a3cd6e8be1e9d782bc6c0d03d476457/Fiona-1.8.10.tar.gz#sha256=ff562eb2f3960e21f8c7f050ddd7f47a763869ea14afc2234a40df72666c6a2c (from https://pypi.org/simple/fiona/). Command errored out with exit status 1: python setup.py egg_info Check the logs for full command output.\n",
      "    ERROR: Command errored out with exit status 1:\n",
      "     command: 'C:\\Users\\rossp\\anaconda3\\envs\\testing_poly_fill\\python.exe' -c 'import io, os, sys, setuptools, tokenize; sys.argv[0] = '\"'\"'C:\\\\Users\\\\rossp\\\\AppData\\\\Local\\\\Temp\\\\pip-install-fqm4i8ri\\\\fiona_a816fe9bf1f0468e830ded06ccd138a3\\\\setup.py'\"'\"'; __file__='\"'\"'C:\\\\Users\\\\rossp\\\\AppData\\\\Local\\\\Temp\\\\pip-install-fqm4i8ri\\\\fiona_a816fe9bf1f0468e830ded06ccd138a3\\\\setup.py'\"'\"';f = getattr(tokenize, '\"'\"'open'\"'\"', open)(__file__) if os.path.exists(__file__) else io.StringIO('\"'\"'from setuptools import setup; setup()'\"'\"');code = f.read().replace('\"'\"'\\r\\n'\"'\"', '\"'\"'\\n'\"'\"');f.close();exec(compile(code, __file__, '\"'\"'exec'\"'\"'))' egg_info --egg-base 'C:\\Users\\rossp\\AppData\\Local\\Temp\\pip-pip-egg-info-dw_jj0at'\n",
      "         cwd: C:\\Users\\rossp\\AppData\\Local\\Temp\\pip-install-fqm4i8ri\\fiona_a816fe9bf1f0468e830ded06ccd138a3\\\n",
      "    Complete output (1 lines):\n",
      "    A GDAL API version must be specified. Provide a path to gdal-config using a GDAL_CONFIG environment variable or use a GDAL_VERSION environment variable.\n",
      "    ----------------------------------------\n",
      "WARNING: Discarding https://files.pythonhosted.org/packages/9b/52/45e75507660ce0e86176d0f59b659560f687e2c7e9ebf82a10e7dcd2d3b7/Fiona-1.8.9.post2.tar.gz#sha256=210fb038b579fab38f35ddbdd31b9725f4d5099b3edfd4b87c983e5d47b79983 (from https://pypi.org/simple/fiona/). Command errored out with exit status 1: python setup.py egg_info Check the logs for full command output.\n",
      "    ERROR: Command errored out with exit status 1:\n",
      "     command: 'C:\\Users\\rossp\\anaconda3\\envs\\testing_poly_fill\\python.exe' -c 'import io, os, sys, setuptools, tokenize; sys.argv[0] = '\"'\"'C:\\\\Users\\\\rossp\\\\AppData\\\\Local\\\\Temp\\\\pip-install-fqm4i8ri\\\\fiona_b04312e605d340a48f6842ebdde79619\\\\setup.py'\"'\"'; __file__='\"'\"'C:\\\\Users\\\\rossp\\\\AppData\\\\Local\\\\Temp\\\\pip-install-fqm4i8ri\\\\fiona_b04312e605d340a48f6842ebdde79619\\\\setup.py'\"'\"';f = getattr(tokenize, '\"'\"'open'\"'\"', open)(__file__) if os.path.exists(__file__) else io.StringIO('\"'\"'from setuptools import setup; setup()'\"'\"');code = f.read().replace('\"'\"'\\r\\n'\"'\"', '\"'\"'\\n'\"'\"');f.close();exec(compile(code, __file__, '\"'\"'exec'\"'\"'))' egg_info --egg-base 'C:\\Users\\rossp\\AppData\\Local\\Temp\\pip-pip-egg-info-p0w088r_'\n",
      "         cwd: C:\\Users\\rossp\\AppData\\Local\\Temp\\pip-install-fqm4i8ri\\fiona_b04312e605d340a48f6842ebdde79619\\\n",
      "    Complete output (1 lines):\n",
      "    A GDAL API version must be specified. Provide a path to gdal-config using a GDAL_CONFIG environment variable or use a GDAL_VERSION environment variable.\n",
      "    ----------------------------------------\n",
      "WARNING: Discarding https://files.pythonhosted.org/packages/0e/a4/d9dd7399be809d3990f5000fb6ae43189ea26ae88be1bed3a4c9ddc1becc/Fiona-1.8.9.post1.tar.gz#sha256=d5e0ea0b8addffe9cba4cb59e2bd495b015230e7a1b1597974f5048211930199 (from https://pypi.org/simple/fiona/). Command errored out with exit status 1: python setup.py egg_info Check the logs for full command output.\n",
      "    ERROR: Command errored out with exit status 1:\n",
      "     command: 'C:\\Users\\rossp\\anaconda3\\envs\\testing_poly_fill\\python.exe' -c 'import io, os, sys, setuptools, tokenize; sys.argv[0] = '\"'\"'C:\\\\Users\\\\rossp\\\\AppData\\\\Local\\\\Temp\\\\pip-install-fqm4i8ri\\\\fiona_49f02f8996b34ac1b0aac7862233fdd8\\\\setup.py'\"'\"'; __file__='\"'\"'C:\\\\Users\\\\rossp\\\\AppData\\\\Local\\\\Temp\\\\pip-install-fqm4i8ri\\\\fiona_49f02f8996b34ac1b0aac7862233fdd8\\\\setup.py'\"'\"';f = getattr(tokenize, '\"'\"'open'\"'\"', open)(__file__) if os.path.exists(__file__) else io.StringIO('\"'\"'from setuptools import setup; setup()'\"'\"');code = f.read().replace('\"'\"'\\r\\n'\"'\"', '\"'\"'\\n'\"'\"');f.close();exec(compile(code, __file__, '\"'\"'exec'\"'\"'))' egg_info --egg-base 'C:\\Users\\rossp\\AppData\\Local\\Temp\\pip-pip-egg-info-3i0xltnv'\n",
      "         cwd: C:\\Users\\rossp\\AppData\\Local\\Temp\\pip-install-fqm4i8ri\\fiona_49f02f8996b34ac1b0aac7862233fdd8\\\n",
      "    Complete output (1 lines):\n",
      "    A GDAL API version must be specified. Provide a path to gdal-config using a GDAL_CONFIG environment variable or use a GDAL_VERSION environment variable.\n",
      "    ----------------------------------------\n",
      "WARNING: Discarding https://files.pythonhosted.org/packages/ad/92/dcbd8c54d697c22f299b5af63b6df3acfbd06c6d72e249614c05be99337c/Fiona-1.8.9.tar.gz#sha256=4dd6e2f5327c1174143c7c8594a75d373bc72f2c9a2a6daee312c3186a128add (from https://pypi.org/simple/fiona/). Command errored out with exit status 1: python setup.py egg_info Check the logs for full command output.\n",
      "    ERROR: Command errored out with exit status 1:\n",
      "     command: 'C:\\Users\\rossp\\anaconda3\\envs\\testing_poly_fill\\python.exe' -c 'import io, os, sys, setuptools, tokenize; sys.argv[0] = '\"'\"'C:\\\\Users\\\\rossp\\\\AppData\\\\Local\\\\Temp\\\\pip-install-fqm4i8ri\\\\fiona_82ada0e0c86f4001bd0f785612d93365\\\\setup.py'\"'\"'; __file__='\"'\"'C:\\\\Users\\\\rossp\\\\AppData\\\\Local\\\\Temp\\\\pip-install-fqm4i8ri\\\\fiona_82ada0e0c86f4001bd0f785612d93365\\\\setup.py'\"'\"';f = getattr(tokenize, '\"'\"'open'\"'\"', open)(__file__) if os.path.exists(__file__) else io.StringIO('\"'\"'from setuptools import setup; setup()'\"'\"');code = f.read().replace('\"'\"'\\r\\n'\"'\"', '\"'\"'\\n'\"'\"');f.close();exec(compile(code, __file__, '\"'\"'exec'\"'\"'))' egg_info --egg-base 'C:\\Users\\rossp\\AppData\\Local\\Temp\\pip-pip-egg-info-fxxi4d0z'\n",
      "         cwd: C:\\Users\\rossp\\AppData\\Local\\Temp\\pip-install-fqm4i8ri\\fiona_82ada0e0c86f4001bd0f785612d93365\\\n",
      "    Complete output (1 lines):\n",
      "    A GDAL API version must be specified. Provide a path to gdal-config using a GDAL_CONFIG environment variable or use a GDAL_VERSION environment variable.\n",
      "    ----------------------------------------\n",
      "WARNING: Discarding https://files.pythonhosted.org/packages/94/7f/e288db1ad63d759d494c30caae34f865e0c6927588c490705e91b7134193/Fiona-1.8.8.tar.gz#sha256=711c3be73203b37812992089445a1e4e9d3d6b64e667389f7b15406e15a91e83 (from https://pypi.org/simple/fiona/). Command errored out with exit status 1: python setup.py egg_info Check the logs for full command output.\n",
      "    ERROR: Command errored out with exit status 1:\n",
      "     command: 'C:\\Users\\rossp\\anaconda3\\envs\\testing_poly_fill\\python.exe' -c 'import io, os, sys, setuptools, tokenize; sys.argv[0] = '\"'\"'C:\\\\Users\\\\rossp\\\\AppData\\\\Local\\\\Temp\\\\pip-install-fqm4i8ri\\\\fiona_3a4d1c830ce64382b47f0dbed6af017f\\\\setup.py'\"'\"'; __file__='\"'\"'C:\\\\Users\\\\rossp\\\\AppData\\\\Local\\\\Temp\\\\pip-install-fqm4i8ri\\\\fiona_3a4d1c830ce64382b47f0dbed6af017f\\\\setup.py'\"'\"';f = getattr(tokenize, '\"'\"'open'\"'\"', open)(__file__) if os.path.exists(__file__) else io.StringIO('\"'\"'from setuptools import setup; setup()'\"'\"');code = f.read().replace('\"'\"'\\r\\n'\"'\"', '\"'\"'\\n'\"'\"');f.close();exec(compile(code, __file__, '\"'\"'exec'\"'\"'))' egg_info --egg-base 'C:\\Users\\rossp\\AppData\\Local\\Temp\\pip-pip-egg-info-ly_5k4vd'\n",
      "         cwd: C:\\Users\\rossp\\AppData\\Local\\Temp\\pip-install-fqm4i8ri\\fiona_3a4d1c830ce64382b47f0dbed6af017f\\\n",
      "    Complete output (1 lines):\n",
      "    A GDAL API version must be specified. Provide a path to gdal-config using a GDAL_CONFIG environment variable or use a GDAL_VERSION environment variable.\n",
      "    ----------------------------------------\n",
      "WARNING: Discarding https://files.pythonhosted.org/packages/78/62/daafd070aebefa639df247705b97f13f7cfad43895581b5cae41bd886709/Fiona-1.8.7.tar.gz#sha256=a55a23615bad3e142d4e4cda97bb5de83c778a80049222e9dffae93c13b5cf93 (from https://pypi.org/simple/fiona/). Command errored out with exit status 1: python setup.py egg_info Check the logs for full command output.\n",
      "    ERROR: Command errored out with exit status 1:\n",
      "     command: 'C:\\Users\\rossp\\anaconda3\\envs\\testing_poly_fill\\python.exe' -c 'import io, os, sys, setuptools, tokenize; sys.argv[0] = '\"'\"'C:\\\\Users\\\\rossp\\\\AppData\\\\Local\\\\Temp\\\\pip-install-fqm4i8ri\\\\fiona_f004aada61b54370920e5c8e002e022a\\\\setup.py'\"'\"'; __file__='\"'\"'C:\\\\Users\\\\rossp\\\\AppData\\\\Local\\\\Temp\\\\pip-install-fqm4i8ri\\\\fiona_f004aada61b54370920e5c8e002e022a\\\\setup.py'\"'\"';f = getattr(tokenize, '\"'\"'open'\"'\"', open)(__file__) if os.path.exists(__file__) else io.StringIO('\"'\"'from setuptools import setup; setup()'\"'\"');code = f.read().replace('\"'\"'\\r\\n'\"'\"', '\"'\"'\\n'\"'\"');f.close();exec(compile(code, __file__, '\"'\"'exec'\"'\"'))' egg_info --egg-base 'C:\\Users\\rossp\\AppData\\Local\\Temp\\pip-pip-egg-info-y834bza5'\n",
      "         cwd: C:\\Users\\rossp\\AppData\\Local\\Temp\\pip-install-fqm4i8ri\\fiona_f004aada61b54370920e5c8e002e022a\\\n",
      "    Complete output (1 lines):\n",
      "    A GDAL API version must be specified. Provide a path to gdal-config using a GDAL_CONFIG environment variable or use a GDAL_VERSION environment variable.\n",
      "    ----------------------------------------\n",
      "WARNING: Discarding https://files.pythonhosted.org/packages/41/9d/63696e7b1de42aad294d4781199a408bec593d8fdb80a2b4a788c911a33b/Fiona-1.8.6.tar.gz#sha256=fa31dfe8855b9cd0b128b47a4df558f1b8eda90d2181bff1dd9854e5556efb3e (from https://pypi.org/simple/fiona/). Command errored out with exit status 1: python setup.py egg_info Check the logs for full command output.\n",
      "    ERROR: Command errored out with exit status 1:\n",
      "     command: 'C:\\Users\\rossp\\anaconda3\\envs\\testing_poly_fill\\python.exe' -c 'import io, os, sys, setuptools, tokenize; sys.argv[0] = '\"'\"'C:\\\\Users\\\\rossp\\\\AppData\\\\Local\\\\Temp\\\\pip-install-fqm4i8ri\\\\fiona_9e38a756639e482c9094f998c3652a98\\\\setup.py'\"'\"'; __file__='\"'\"'C:\\\\Users\\\\rossp\\\\AppData\\\\Local\\\\Temp\\\\pip-install-fqm4i8ri\\\\fiona_9e38a756639e482c9094f998c3652a98\\\\setup.py'\"'\"';f = getattr(tokenize, '\"'\"'open'\"'\"', open)(__file__) if os.path.exists(__file__) else io.StringIO('\"'\"'from setuptools import setup; setup()'\"'\"');code = f.read().replace('\"'\"'\\r\\n'\"'\"', '\"'\"'\\n'\"'\"');f.close();exec(compile(code, __file__, '\"'\"'exec'\"'\"'))' egg_info --egg-base 'C:\\Users\\rossp\\AppData\\Local\\Temp\\pip-pip-egg-info-sumqhgfg'\n",
      "         cwd: C:\\Users\\rossp\\AppData\\Local\\Temp\\pip-install-fqm4i8ri\\fiona_9e38a756639e482c9094f998c3652a98\\\n",
      "    Complete output (1 lines):\n",
      "    A GDAL API version must be specified. Provide a path to gdal-config using a GDAL_CONFIG environment variable or use a GDAL_VERSION environment variable.\n",
      "    ----------------------------------------\n",
      "WARNING: Discarding https://files.pythonhosted.org/packages/7b/af/1c2c83c4a8363a4ce9fea817b1910b5e071bed012e18257faa2a0ab3cfe7/Fiona-1.8.5.tar.gz#sha256=4f5cc2d449edbbf693c83e24cdada72de7c41297383d16fcc92387eb445e9d35 (from https://pypi.org/simple/fiona/). Command errored out with exit status 1: python setup.py egg_info Check the logs for full command output.\n",
      "    ERROR: Command errored out with exit status 1:\n",
      "     command: 'C:\\Users\\rossp\\anaconda3\\envs\\testing_poly_fill\\python.exe' -c 'import io, os, sys, setuptools, tokenize; sys.argv[0] = '\"'\"'C:\\\\Users\\\\rossp\\\\AppData\\\\Local\\\\Temp\\\\pip-install-fqm4i8ri\\\\fiona_2977588e6ac14595884b6d1e83793116\\\\setup.py'\"'\"'; __file__='\"'\"'C:\\\\Users\\\\rossp\\\\AppData\\\\Local\\\\Temp\\\\pip-install-fqm4i8ri\\\\fiona_2977588e6ac14595884b6d1e83793116\\\\setup.py'\"'\"';f = getattr(tokenize, '\"'\"'open'\"'\"', open)(__file__) if os.path.exists(__file__) else io.StringIO('\"'\"'from setuptools import setup; setup()'\"'\"');code = f.read().replace('\"'\"'\\r\\n'\"'\"', '\"'\"'\\n'\"'\"');f.close();exec(compile(code, __file__, '\"'\"'exec'\"'\"'))' egg_info --egg-base 'C:\\Users\\rossp\\AppData\\Local\\Temp\\pip-pip-egg-info-j19yuup7'\n",
      "         cwd: C:\\Users\\rossp\\AppData\\Local\\Temp\\pip-install-fqm4i8ri\\fiona_2977588e6ac14595884b6d1e83793116\\\n",
      "    Complete output (1 lines):\n",
      "    A GDAL API version must be specified. Provide a path to gdal-config using a GDAL_CONFIG environment variable or use a GDAL_VERSION environment variable.\n",
      "    ----------------------------------------\n",
      "WARNING: Discarding https://files.pythonhosted.org/packages/3a/16/84960540e9fce61d767fd2f0f1d95f4c63e99ab5d8fddc308e8b51b059b8/Fiona-1.8.4.tar.gz#sha256=aec9ab2e3513c9503ec123b1a8573bee55fc6a66e2ac07088c3376bf6738a424 (from https://pypi.org/simple/fiona/). Command errored out with exit status 1: python setup.py egg_info Check the logs for full command output.\n",
      "    ERROR: Command errored out with exit status 1:\n",
      "     command: 'C:\\Users\\rossp\\anaconda3\\envs\\testing_poly_fill\\python.exe' -c 'import io, os, sys, setuptools, tokenize; sys.argv[0] = '\"'\"'C:\\\\Users\\\\rossp\\\\AppData\\\\Local\\\\Temp\\\\pip-install-fqm4i8ri\\\\fiona_49ec551018904974980a6bc9c3758f7a\\\\setup.py'\"'\"'; __file__='\"'\"'C:\\\\Users\\\\rossp\\\\AppData\\\\Local\\\\Temp\\\\pip-install-fqm4i8ri\\\\fiona_49ec551018904974980a6bc9c3758f7a\\\\setup.py'\"'\"';f = getattr(tokenize, '\"'\"'open'\"'\"', open)(__file__) if os.path.exists(__file__) else io.StringIO('\"'\"'from setuptools import setup; setup()'\"'\"');code = f.read().replace('\"'\"'\\r\\n'\"'\"', '\"'\"'\\n'\"'\"');f.close();exec(compile(code, __file__, '\"'\"'exec'\"'\"'))' egg_info --egg-base 'C:\\Users\\rossp\\AppData\\Local\\Temp\\pip-pip-egg-info-9zlxex3a'\n",
      "         cwd: C:\\Users\\rossp\\AppData\\Local\\Temp\\pip-install-fqm4i8ri\\fiona_49ec551018904974980a6bc9c3758f7a\\\n",
      "    Complete output (1 lines):\n",
      "    A GDAL API version must be specified. Provide a path to gdal-config using a GDAL_CONFIG environment variable or use a GDAL_VERSION environment variable.\n",
      "    ----------------------------------------\n",
      "WARNING: Discarding https://files.pythonhosted.org/packages/46/d1/fcdb32513a03abfde0d97fd9782ce0f8cc0540fa6c6ce783e87b94064964/Fiona-1.8.3.tar.gz#sha256=3e831100a23c3b6cd32b98baf0c9e2119d909b44a5cf4533d3625f61dcf2d2b1 (from https://pypi.org/simple/fiona/). Command errored out with exit status 1: python setup.py egg_info Check the logs for full command output.\n",
      "    ERROR: Command errored out with exit status 1:\n",
      "     command: 'C:\\Users\\rossp\\anaconda3\\envs\\testing_poly_fill\\python.exe' -c 'import io, os, sys, setuptools, tokenize; sys.argv[0] = '\"'\"'C:\\\\Users\\\\rossp\\\\AppData\\\\Local\\\\Temp\\\\pip-install-fqm4i8ri\\\\fiona_68c0f912ff1b46188fcc33157b129ebe\\\\setup.py'\"'\"'; __file__='\"'\"'C:\\\\Users\\\\rossp\\\\AppData\\\\Local\\\\Temp\\\\pip-install-fqm4i8ri\\\\fiona_68c0f912ff1b46188fcc33157b129ebe\\\\setup.py'\"'\"';f = getattr(tokenize, '\"'\"'open'\"'\"', open)(__file__) if os.path.exists(__file__) else io.StringIO('\"'\"'from setuptools import setup; setup()'\"'\"');code = f.read().replace('\"'\"'\\r\\n'\"'\"', '\"'\"'\\n'\"'\"');f.close();exec(compile(code, __file__, '\"'\"'exec'\"'\"'))' egg_info --egg-base 'C:\\Users\\rossp\\AppData\\Local\\Temp\\pip-pip-egg-info-fq0zae9a'\n",
      "         cwd: C:\\Users\\rossp\\AppData\\Local\\Temp\\pip-install-fqm4i8ri\\fiona_68c0f912ff1b46188fcc33157b129ebe\\\n",
      "    Complete output (1 lines):\n",
      "    A GDAL API version must be specified. Provide a path to gdal-config using a GDAL_CONFIG environment variable or use a GDAL_VERSION environment variable.\n",
      "    ----------------------------------------\n",
      "WARNING: Discarding https://files.pythonhosted.org/packages/25/50/0466d5d83e1859c5ca38351ee932d64cc5635f9d4dad522879e58f4b0018/Fiona-1.8.2.tar.gz#sha256=4c6419b7ac29136708029f6a44b4ccd458735a4d241016c7b1bab41685c08d8f (from https://pypi.org/simple/fiona/). Command errored out with exit status 1: python setup.py egg_info Check the logs for full command output.\n",
      "    ERROR: Command errored out with exit status 1:\n",
      "     command: 'C:\\Users\\rossp\\anaconda3\\envs\\testing_poly_fill\\python.exe' -c 'import io, os, sys, setuptools, tokenize; sys.argv[0] = '\"'\"'C:\\\\Users\\\\rossp\\\\AppData\\\\Local\\\\Temp\\\\pip-install-fqm4i8ri\\\\fiona_c8cc2066bad447cf8bf7f1d714f8d5a7\\\\setup.py'\"'\"'; __file__='\"'\"'C:\\\\Users\\\\rossp\\\\AppData\\\\Local\\\\Temp\\\\pip-install-fqm4i8ri\\\\fiona_c8cc2066bad447cf8bf7f1d714f8d5a7\\\\setup.py'\"'\"';f = getattr(tokenize, '\"'\"'open'\"'\"', open)(__file__) if os.path.exists(__file__) else io.StringIO('\"'\"'from setuptools import setup; setup()'\"'\"');code = f.read().replace('\"'\"'\\r\\n'\"'\"', '\"'\"'\\n'\"'\"');f.close();exec(compile(code, __file__, '\"'\"'exec'\"'\"'))' egg_info --egg-base 'C:\\Users\\rossp\\AppData\\Local\\Temp\\pip-pip-egg-info-66tlqqg0'\n",
      "         cwd: C:\\Users\\rossp\\AppData\\Local\\Temp\\pip-install-fqm4i8ri\\fiona_c8cc2066bad447cf8bf7f1d714f8d5a7\\\n",
      "    Complete output (1 lines):\n",
      "    A GDAL API version must be specified. Provide a path to gdal-config using a GDAL_CONFIG environment variable or use a GDAL_VERSION environment variable.\n",
      "    ----------------------------------------\n",
      "WARNING: Discarding https://files.pythonhosted.org/packages/3e/5f/0c6704efeea2ff3fba7f54cc6ec38070157f21bc1cffa7bdfa7c9f6b8f7a/Fiona-1.8.1.tar.gz#sha256=4c34bb4c5cd788aaf14e5484c3b7de407b1a8a7c7b2d29bbb2e8b37931e83b8d (from https://pypi.org/simple/fiona/). Command errored out with exit status 1: python setup.py egg_info Check the logs for full command output.\n",
      "    ERROR: Command errored out with exit status 1:\n",
      "     command: 'C:\\Users\\rossp\\anaconda3\\envs\\testing_poly_fill\\python.exe' -c 'import io, os, sys, setuptools, tokenize; sys.argv[0] = '\"'\"'C:\\\\Users\\\\rossp\\\\AppData\\\\Local\\\\Temp\\\\pip-install-fqm4i8ri\\\\fiona_8e2ce4e5fe654aa5b29d945bb0e40db0\\\\setup.py'\"'\"'; __file__='\"'\"'C:\\\\Users\\\\rossp\\\\AppData\\\\Local\\\\Temp\\\\pip-install-fqm4i8ri\\\\fiona_8e2ce4e5fe654aa5b29d945bb0e40db0\\\\setup.py'\"'\"';f = getattr(tokenize, '\"'\"'open'\"'\"', open)(__file__) if os.path.exists(__file__) else io.StringIO('\"'\"'from setuptools import setup; setup()'\"'\"');code = f.read().replace('\"'\"'\\r\\n'\"'\"', '\"'\"'\\n'\"'\"');f.close();exec(compile(code, __file__, '\"'\"'exec'\"'\"'))' egg_info --egg-base 'C:\\Users\\rossp\\AppData\\Local\\Temp\\pip-pip-egg-info-4oyliy6j'\n",
      "         cwd: C:\\Users\\rossp\\AppData\\Local\\Temp\\pip-install-fqm4i8ri\\fiona_8e2ce4e5fe654aa5b29d945bb0e40db0\\\n",
      "    Complete output (1 lines):\n",
      "    A GDAL API version must be specified. Provide a path to gdal-config using a GDAL_CONFIG environment variable or use a GDAL_VERSION environment variable.\n",
      "    ----------------------------------------"
     ]
    }
   ],
   "source": [
    "pip install -r requirements_nb.txt"
   ]
  },
  {
   "cell_type": "code",
   "execution_count": 30,
   "metadata": {},
   "outputs": [
    {
     "name": "stderr",
     "output_type": "stream",
     "text": [
      "\n",
      "WARNING: Discarding https://files.pythonhosted.org/packages/2a/bd/c1efc2680f338e5941121c776d6323af6b9698ac739e22ba523cee348a7f/Fiona-1.8.0.tar.gz#sha256=20141a9ece06daa7bb4333fba640c2fe39a49f8aca5492d1da8595d41e91844a (from https://pypi.org/simple/fiona/). Command errored out with exit status 1: python setup.py egg_info Check the logs for full command output.\n",
      "  ERROR: Command errored out with exit status 1:\n",
      "   command: 'C:\\Users\\rossp\\anaconda3\\envs\\testing_poly_fill\\python.exe' -u -c 'import io, os, sys, setuptools, tokenize; sys.argv[0] = '\"'\"'C:\\\\Users\\\\rossp\\\\AppData\\\\Local\\\\Temp\\\\pip-install-fqm4i8ri\\\\fiona_9377bf09d03847c98333ddfb35119375\\\\setup.py'\"'\"'; __file__='\"'\"'C:\\\\Users\\\\rossp\\\\AppData\\\\Local\\\\Temp\\\\pip-install-fqm4i8ri\\\\fiona_9377bf09d03847c98333ddfb35119375\\\\setup.py'\"'\"';f = getattr(tokenize, '\"'\"'open'\"'\"', open)(__file__) if os.path.exists(__file__) else io.StringIO('\"'\"'from setuptools import setup; setup()'\"'\"');code = f.read().replace('\"'\"'\\r\\n'\"'\"', '\"'\"'\\n'\"'\"');f.close();exec(compile(code, __file__, '\"'\"'exec'\"'\"'))' bdist_wheel -d 'C:\\Users\\rossp\\AppData\\Local\\Temp\\pip-wheel-310pskg_'\n",
      "       cwd: C:\\Users\\rossp\\AppData\\Local\\Temp\\pip-install-fqm4i8ri\\fiona_9377bf09d03847c98333ddfb35119375\\\n",
      "  Complete output (42 lines):\n",
      "  C:\\Users\\rossp\\anaconda3\\envs\\testing_poly_fill\\lib\\distutils\\dist.py:274: UserWarning: Unknown distribution option: 'metadata_version'\n",
      "    warnings.warn(msg)\n",
      "  C:\\Users\\rossp\\anaconda3\\envs\\testing_poly_fill\\lib\\distutils\\dist.py:274: UserWarning: Unknown distribution option: 'requires_python'\n",
      "    warnings.warn(msg)\n",
      "  C:\\Users\\rossp\\anaconda3\\envs\\testing_poly_fill\\lib\\distutils\\dist.py:274: UserWarning: Unknown distribution option: 'requires_external'\n",
      "    warnings.warn(msg)\n",
      "  running bdist_wheel\n",
      "  running build\n",
      "  running build_py\n",
      "  creating build\n",
      "  creating build\\lib.win-amd64-3.9\n",
      "  creating build\\lib.win-amd64-3.9\\fiona\n",
      "  copying .\\fiona\\collection.py -> build\\lib.win-amd64-3.9\\fiona\n",
      "  copying .\\fiona\\compat.py -> build\\lib.win-amd64-3.9\\fiona\n",
      "  copying .\\fiona\\crs.py -> build\\lib.win-amd64-3.9\\fiona\n",
      "  copying .\\fiona\\drvsupport.py -> build\\lib.win-amd64-3.9\\fiona\n",
      "  copying .\\fiona\\errors.py -> build\\lib.win-amd64-3.9\\fiona\n",
      "  copying .\\fiona\\inspector.py -> build\\lib.win-amd64-3.9\\fiona\n",
      "  copying .\\fiona\\rfc3339.py -> build\\lib.win-amd64-3.9\\fiona\n",
      "  copying .\\fiona\\tool.py -> build\\lib.win-amd64-3.9\\fiona\n",
      "  copying .\\fiona\\transform.py -> build\\lib.win-amd64-3.9\\fiona\n",
      "  copying .\\fiona\\__init__.py -> build\\lib.win-amd64-3.9\\fiona\n",
      "  creating build\\lib.win-amd64-3.9\\fiona\\fio\n",
      "  copying .\\fiona\\fio\\bounds.py -> build\\lib.win-amd64-3.9\\fiona\\fio\n",
      "  copying .\\fiona\\fio\\calc.py -> build\\lib.win-amd64-3.9\\fiona\\fio\n",
      "  copying .\\fiona\\fio\\cat.py -> build\\lib.win-amd64-3.9\\fiona\\fio\n",
      "  copying .\\fiona\\fio\\collect.py -> build\\lib.win-amd64-3.9\\fiona\\fio\n",
      "  copying .\\fiona\\fio\\distrib.py -> build\\lib.win-amd64-3.9\\fiona\\fio\n",
      "  copying .\\fiona\\fio\\dump.py -> build\\lib.win-amd64-3.9\\fiona\\fio\n",
      "  copying .\\fiona\\fio\\env.py -> build\\lib.win-amd64-3.9\\fiona\\fio\n",
      "  copying .\\fiona\\fio\\filter.py -> build\\lib.win-amd64-3.9\\fiona\\fio\n",
      "  copying .\\fiona\\fio\\helpers.py -> build\\lib.win-amd64-3.9\\fiona\\fio\n",
      "  copying .\\fiona\\fio\\info.py -> build\\lib.win-amd64-3.9\\fiona\\fio\n",
      "  copying .\\fiona\\fio\\insp.py -> build\\lib.win-amd64-3.9\\fiona\\fio\n",
      "  copying .\\fiona\\fio\\load.py -> build\\lib.win-amd64-3.9\\fiona\\fio\n",
      "  copying .\\fiona\\fio\\ls.py -> build\\lib.win-amd64-3.9\\fiona\\fio\n",
      "  copying .\\fiona\\fio\\main.py -> build\\lib.win-amd64-3.9\\fiona\\fio\n",
      "  copying .\\fiona\\fio\\options.py -> build\\lib.win-amd64-3.9\\fiona\\fio\n",
      "  copying .\\fiona\\fio\\__init__.py -> build\\lib.win-amd64-3.9\\fiona\\fio\n",
      "  running build_ext\n",
      "  building 'fiona._transform' extension\n",
      "  error: Microsoft Visual C++ 14.0 or greater is required. Get it with \"Microsoft C++ Build Tools\": https://visualstudio.microsoft.com/visual-cpp-build-tools/\n",
      "  ----------------------------------------\n",
      "  ERROR: Failed building wheel for fiona\n",
      "    ERROR: Command errored out with exit status 1:\n",
      "     command: 'C:\\Users\\rossp\\anaconda3\\envs\\testing_poly_fill\\python.exe' -u -c 'import io, os, sys, setuptools, tokenize; sys.argv[0] = '\"'\"'C:\\\\Users\\\\rossp\\\\AppData\\\\Local\\\\Temp\\\\pip-install-fqm4i8ri\\\\fiona_9377bf09d03847c98333ddfb35119375\\\\setup.py'\"'\"'; __file__='\"'\"'C:\\\\Users\\\\rossp\\\\AppData\\\\Local\\\\Temp\\\\pip-install-fqm4i8ri\\\\fiona_9377bf09d03847c98333ddfb35119375\\\\setup.py'\"'\"';f = getattr(tokenize, '\"'\"'open'\"'\"', open)(__file__) if os.path.exists(__file__) else io.StringIO('\"'\"'from setuptools import setup; setup()'\"'\"');code = f.read().replace('\"'\"'\\r\\n'\"'\"', '\"'\"'\\n'\"'\"');f.close();exec(compile(code, __file__, '\"'\"'exec'\"'\"'))' install --record 'C:\\Users\\rossp\\AppData\\Local\\Temp\\pip-record-3eyq_uq8\\install-record.txt' --single-version-externally-managed --compile --install-headers 'C:\\Users\\rossp\\anaconda3\\envs\\testing_poly_fill\\Include\\fiona'\n",
      "         cwd: C:\\Users\\rossp\\AppData\\Local\\Temp\\pip-install-fqm4i8ri\\fiona_9377bf09d03847c98333ddfb35119375\\\n",
      "    Complete output (12 lines):\n",
      "    C:\\Users\\rossp\\anaconda3\\envs\\testing_poly_fill\\lib\\distutils\\dist.py:274: UserWarning: Unknown distribution option: 'metadata_version'\n",
      "      warnings.warn(msg)\n",
      "    C:\\Users\\rossp\\anaconda3\\envs\\testing_poly_fill\\lib\\distutils\\dist.py:274: UserWarning: Unknown distribution option: 'requires_python'\n",
      "      warnings.warn(msg)\n",
      "    C:\\Users\\rossp\\anaconda3\\envs\\testing_poly_fill\\lib\\distutils\\dist.py:274: UserWarning: Unknown distribution option: 'requires_external'\n",
      "      warnings.warn(msg)\n",
      "    running install\n",
      "    running build\n",
      "    running build_py\n",
      "    running build_ext\n",
      "    building 'fiona._transform' extension\n",
      "    error: Microsoft Visual C++ 14.0 or greater is required. Get it with \"Microsoft C++ Build Tools\": https://visualstudio.microsoft.com/visual-cpp-build-tools/\n",
      "    ----------------------------------------\n",
      "ERROR: Command errored out with exit status 1: 'C:\\Users\\rossp\\anaconda3\\envs\\testing_poly_fill\\python.exe' -u -c 'import io, os, sys, setuptools, tokenize; sys.argv[0] = '\"'\"'C:\\\\Users\\\\rossp\\\\AppData\\\\Local\\\\Temp\\\\pip-install-fqm4i8ri\\\\fiona_9377bf09d03847c98333ddfb35119375\\\\setup.py'\"'\"'; __file__='\"'\"'C:\\\\Users\\\\rossp\\\\AppData\\\\Local\\\\Temp\\\\pip-install-fqm4i8ri\\\\fiona_9377bf09d03847c98333ddfb35119375\\\\setup.py'\"'\"';f = getattr(tokenize, '\"'\"'open'\"'\"', open)(__file__) if os.path.exists(__file__) else io.StringIO('\"'\"'from setuptools import setup; setup()'\"'\"');code = f.read().replace('\"'\"'\\r\\n'\"'\"', '\"'\"'\\n'\"'\"');f.close();exec(compile(code, __file__, '\"'\"'exec'\"'\"'))' install --record 'C:\\Users\\rossp\\AppData\\Local\\Temp\\pip-record-3eyq_uq8\\install-record.txt' --single-version-externally-managed --compile --install-headers 'C:\\Users\\rossp\\anaconda3\\envs\\testing_poly_fill\\Include\\fiona' Check the logs for full command output.\n"
     ]
    },
    {
     "ename": "ModuleNotFoundError",
     "evalue": "No module named 'geopandas'",
     "output_type": "error",
     "traceback": [
      "\u001b[1;31m---------------------------------------------------------------------------\u001b[0m",
      "\u001b[1;31mModuleNotFoundError\u001b[0m                       Traceback (most recent call last)",
      "\u001b[1;32m~\\AppData\\Local\\Temp/ipykernel_10236/2054231528.py\u001b[0m in \u001b[0;36m<module>\u001b[1;34m\u001b[0m\n\u001b[1;32m----> 1\u001b[1;33m \u001b[1;32mfrom\u001b[0m \u001b[0mDGGSForPoly\u001b[0m\u001b[1;33m.\u001b[0m\u001b[0mcell_plot\u001b[0m \u001b[1;32mimport\u001b[0m \u001b[0mcell_plot\u001b[0m\u001b[1;33m\u001b[0m\u001b[1;33m\u001b[0m\u001b[0m\n\u001b[0m\u001b[0;32m      2\u001b[0m \u001b[1;32mfrom\u001b[0m \u001b[0mshapely\u001b[0m\u001b[1;33m.\u001b[0m\u001b[0mgeometry\u001b[0m \u001b[1;32mimport\u001b[0m \u001b[0mshape\u001b[0m \u001b[1;31m#cell_plot takes a shapely object\u001b[0m\u001b[1;33m\u001b[0m\u001b[1;33m\u001b[0m\u001b[0m\n",
      "\u001b[1;32mc:\\Users\\rossp\\OneDrive - The University of Melbourne\\CSIRO\\DGGSForPoly\\DGGSForPoly\\cell_plot.py\u001b[0m in \u001b[0;36m<module>\u001b[1;34m\u001b[0m\n\u001b[0;32m      3\u001b[0m \u001b[1;32mfrom\u001b[0m \u001b[0mrhealpixdggs\u001b[0m\u001b[1;33m.\u001b[0m\u001b[0mellipsoids\u001b[0m \u001b[1;32mimport\u001b[0m \u001b[0mWGS84_ELLIPSOID\u001b[0m\u001b[1;33m\u001b[0m\u001b[1;33m\u001b[0m\u001b[0m\n\u001b[0;32m      4\u001b[0m \u001b[1;32mfrom\u001b[0m \u001b[0mDGGSForPoly\u001b[0m\u001b[1;33m.\u001b[0m\u001b[0mcell_helpers\u001b[0m \u001b[1;32mimport\u001b[0m \u001b[0mget_cell_poly\u001b[0m\u001b[1;33m,\u001b[0m \u001b[0mstr_to_list\u001b[0m\u001b[1;33m\u001b[0m\u001b[1;33m\u001b[0m\u001b[0m\n\u001b[1;32m----> 5\u001b[1;33m \u001b[1;32mimport\u001b[0m \u001b[0mgeopandas\u001b[0m \u001b[1;32mas\u001b[0m \u001b[0mgp\u001b[0m\u001b[1;33m\u001b[0m\u001b[1;33m\u001b[0m\u001b[0m\n\u001b[0m\u001b[0;32m      6\u001b[0m \u001b[1;33m\u001b[0m\u001b[0m\n\u001b[0;32m      7\u001b[0m \u001b[1;32mdef\u001b[0m \u001b[0mcell_plot\u001b[0m\u001b[1;33m(\u001b[0m\u001b[0mcell_list\u001b[0m\u001b[1;33m=\u001b[0m\u001b[1;32mNone\u001b[0m\u001b[1;33m,\u001b[0m \u001b[0mpoly\u001b[0m\u001b[1;33m=\u001b[0m\u001b[1;32mNone\u001b[0m\u001b[1;33m,\u001b[0m \u001b[0mzoom\u001b[0m\u001b[1;33m=\u001b[0m\u001b[1;36m10\u001b[0m\u001b[1;33m,\u001b[0m \u001b[0mrdggs\u001b[0m\u001b[1;33m=\u001b[0m\u001b[1;32mNone\u001b[0m\u001b[1;33m)\u001b[0m\u001b[1;33m:\u001b[0m\u001b[1;33m\u001b[0m\u001b[1;33m\u001b[0m\u001b[0m\n",
      "\u001b[1;31mModuleNotFoundError\u001b[0m: No module named 'geopandas'"
     ]
    }
   ],
   "source": [
    "from DGGSForPoly.cell_plot import cell_plot\n",
    "from shapely.geometry import shape #cell_plot takes a shapely object"
   ]
  },
  {
   "cell_type": "code",
   "execution_count": null,
   "metadata": {},
   "outputs": [],
   "source": [
    "cell_plot(cell_list=dggs_cells, poly=shape(poly_dict), zoom=10)"
   ]
  }
 ],
 "metadata": {
  "interpreter": {
   "hash": "bddc4fecca9225225339ff0447f4d89fb1743c35c8b512909c846788e0e7eefd"
  },
  "kernelspec": {
   "display_name": "Python 3.9.7 ('testing_poly_fill')",
   "language": "python",
   "name": "python3"
  },
  "language_info": {
   "codemirror_mode": {
    "name": "ipython",
    "version": 3
   },
   "file_extension": ".py",
   "mimetype": "text/x-python",
   "name": "python",
   "nbconvert_exporter": "python",
   "pygments_lexer": "ipython3",
   "version": "3.9.7"
  },
  "orig_nbformat": 4
 },
 "nbformat": 4,
 "nbformat_minor": 2
}
